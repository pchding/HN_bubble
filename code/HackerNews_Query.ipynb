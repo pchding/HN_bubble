{
 "cells": [
  {
   "cell_type": "code",
   "execution_count": 1,
   "metadata": {},
   "outputs": [],
   "source": [
    "from google.cloud import bigquery"
   ]
  },
  {
   "cell_type": "code",
   "execution_count": 2,
   "metadata": {},
   "outputs": [],
   "source": [
    "client = bigquery.Client()"
   ]
  },
  {
   "cell_type": "code",
   "execution_count": 3,
   "metadata": {},
   "outputs": [],
   "source": [
    "import pandas as pd\n",
    "import numpy as np\n",
    "import re"
   ]
  },
  {
   "cell_type": "code",
   "execution_count": 4,
   "metadata": {},
   "outputs": [
    {
     "name": "stdout",
     "output_type": "stream",
     "text": [
      "comments\n",
      "full\n",
      "full_201510\n",
      "stories\n"
     ]
    }
   ],
   "source": [
    "# explore dataset first\n",
    "dataset_ref = client.dataset(\"hacker_news\", project=\"bigquery-public-data\")\n",
    "dataset = client.get_dataset(dataset_ref)\n",
    "tables = list(client.list_tables(dataset))\n",
    "# Print names of all tables in the dataset (there are four!)\n",
    "for table in tables:  \n",
    "    print(table.table_id)\n"
   ]
  },
  {
   "cell_type": "code",
   "execution_count": 5,
   "metadata": {},
   "outputs": [
    {
     "data": {
      "text/plain": [
       "[SchemaField('title', 'STRING', 'NULLABLE', 'Story title', ()),\n",
       " SchemaField('url', 'STRING', 'NULLABLE', 'Story url', ()),\n",
       " SchemaField('text', 'STRING', 'NULLABLE', 'Story or comment text', ()),\n",
       " SchemaField('dead', 'BOOLEAN', 'NULLABLE', 'Is dead?', ()),\n",
       " SchemaField('by', 'STRING', 'NULLABLE', \"The username of the item's author.\", ()),\n",
       " SchemaField('score', 'INTEGER', 'NULLABLE', 'Story score', ()),\n",
       " SchemaField('time', 'INTEGER', 'NULLABLE', 'Unix time', ()),\n",
       " SchemaField('timestamp', 'TIMESTAMP', 'NULLABLE', 'Timestamp for the unix time', ()),\n",
       " SchemaField('type', 'STRING', 'NULLABLE', 'Type of details (comment, comment_ranking, poll, story, job, pollopt)', ()),\n",
       " SchemaField('id', 'INTEGER', 'NULLABLE', \"The item's unique id.\", ()),\n",
       " SchemaField('parent', 'INTEGER', 'NULLABLE', 'Parent comment ID', ()),\n",
       " SchemaField('descendants', 'INTEGER', 'NULLABLE', 'Number of story or poll descendants', ()),\n",
       " SchemaField('ranking', 'INTEGER', 'NULLABLE', 'Comment ranking', ()),\n",
       " SchemaField('deleted', 'BOOLEAN', 'NULLABLE', 'Is deleted?', ())]"
      ]
     },
     "execution_count": 5,
     "metadata": {},
     "output_type": "execute_result"
    }
   ],
   "source": [
    "table_ref = dataset_ref.table(\"full\")\n",
    "table = client.get_table(table_ref)\n",
    "table.schema"
   ]
  },
  {
   "cell_type": "code",
   "execution_count": 6,
   "metadata": {
    "scrolled": true
   },
   "outputs": [
    {
     "data": {
      "text/html": [
       "<div>\n",
       "<style scoped>\n",
       "    .dataframe tbody tr th:only-of-type {\n",
       "        vertical-align: middle;\n",
       "    }\n",
       "\n",
       "    .dataframe tbody tr th {\n",
       "        vertical-align: top;\n",
       "    }\n",
       "\n",
       "    .dataframe thead th {\n",
       "        text-align: right;\n",
       "    }\n",
       "</style>\n",
       "<table border=\"1\" class=\"dataframe\">\n",
       "  <thead>\n",
       "    <tr style=\"text-align: right;\">\n",
       "      <th></th>\n",
       "      <th>title</th>\n",
       "      <th>url</th>\n",
       "      <th>text</th>\n",
       "      <th>dead</th>\n",
       "      <th>by</th>\n",
       "      <th>score</th>\n",
       "      <th>time</th>\n",
       "      <th>timestamp</th>\n",
       "      <th>type</th>\n",
       "      <th>id</th>\n",
       "      <th>parent</th>\n",
       "      <th>descendants</th>\n",
       "      <th>ranking</th>\n",
       "      <th>deleted</th>\n",
       "    </tr>\n",
       "  </thead>\n",
       "  <tbody>\n",
       "    <tr>\n",
       "      <th>0</th>\n",
       "      <td>Wrecker – A HTTP Request Builder Written in Go</td>\n",
       "      <td>https://github.com/BrandonRomano/wrecker</td>\n",
       "      <td>None</td>\n",
       "      <td>None</td>\n",
       "      <td>BrandonRRomano</td>\n",
       "      <td>3.0</td>\n",
       "      <td>1434564076</td>\n",
       "      <td>2015-06-17 18:01:16+00:00</td>\n",
       "      <td>story</td>\n",
       "      <td>9733936</td>\n",
       "      <td>NaN</td>\n",
       "      <td>0.0</td>\n",
       "      <td>None</td>\n",
       "      <td>None</td>\n",
       "    </tr>\n",
       "    <tr>\n",
       "      <th>1</th>\n",
       "      <td>None</td>\n",
       "      <td>None</td>\n",
       "      <td>OTOH code completion is still only mediocre fo...</td>\n",
       "      <td>None</td>\n",
       "      <td>swah</td>\n",
       "      <td>NaN</td>\n",
       "      <td>1447097506</td>\n",
       "      <td>2015-11-09 19:31:46+00:00</td>\n",
       "      <td>comment</td>\n",
       "      <td>10535217</td>\n",
       "      <td>10532957.0</td>\n",
       "      <td>NaN</td>\n",
       "      <td>None</td>\n",
       "      <td>None</td>\n",
       "    </tr>\n",
       "    <tr>\n",
       "      <th>2</th>\n",
       "      <td>None</td>\n",
       "      <td>None</td>\n",
       "      <td>Are you saying the &amp;quot;code generation layer...</td>\n",
       "      <td>None</td>\n",
       "      <td>micahbright</td>\n",
       "      <td>NaN</td>\n",
       "      <td>1462486065</td>\n",
       "      <td>2016-05-05 22:07:45+00:00</td>\n",
       "      <td>comment</td>\n",
       "      <td>11640016</td>\n",
       "      <td>11639332.0</td>\n",
       "      <td>NaN</td>\n",
       "      <td>None</td>\n",
       "      <td>None</td>\n",
       "    </tr>\n",
       "    <tr>\n",
       "      <th>3</th>\n",
       "      <td>None</td>\n",
       "      <td>None</td>\n",
       "      <td>The logic behind quoting FEMA is that the figu...</td>\n",
       "      <td>None</td>\n",
       "      <td>m52go</td>\n",
       "      <td>NaN</td>\n",
       "      <td>1507771783</td>\n",
       "      <td>2017-10-12 01:29:43+00:00</td>\n",
       "      <td>comment</td>\n",
       "      <td>15455008</td>\n",
       "      <td>15454472.0</td>\n",
       "      <td>NaN</td>\n",
       "      <td>None</td>\n",
       "      <td>None</td>\n",
       "    </tr>\n",
       "    <tr>\n",
       "      <th>4</th>\n",
       "      <td>None</td>\n",
       "      <td>None</td>\n",
       "      <td>I should clarify that I don't see technologica...</td>\n",
       "      <td>None</td>\n",
       "      <td>angusiguess</td>\n",
       "      <td>NaN</td>\n",
       "      <td>1329852926</td>\n",
       "      <td>2012-02-21 19:35:26+00:00</td>\n",
       "      <td>comment</td>\n",
       "      <td>3617742</td>\n",
       "      <td>3617076.0</td>\n",
       "      <td>NaN</td>\n",
       "      <td>None</td>\n",
       "      <td>None</td>\n",
       "    </tr>\n",
       "  </tbody>\n",
       "</table>\n",
       "</div>"
      ],
      "text/plain": [
       "                                            title  \\\n",
       "0  Wrecker – A HTTP Request Builder Written in Go   \n",
       "1                                            None   \n",
       "2                                            None   \n",
       "3                                            None   \n",
       "4                                            None   \n",
       "\n",
       "                                        url  \\\n",
       "0  https://github.com/BrandonRomano/wrecker   \n",
       "1                                      None   \n",
       "2                                      None   \n",
       "3                                      None   \n",
       "4                                      None   \n",
       "\n",
       "                                                text  dead              by  \\\n",
       "0                                               None  None  BrandonRRomano   \n",
       "1  OTOH code completion is still only mediocre fo...  None            swah   \n",
       "2  Are you saying the &quot;code generation layer...  None     micahbright   \n",
       "3  The logic behind quoting FEMA is that the figu...  None           m52go   \n",
       "4  I should clarify that I don't see technologica...  None     angusiguess   \n",
       "\n",
       "   score        time                 timestamp     type        id      parent  \\\n",
       "0    3.0  1434564076 2015-06-17 18:01:16+00:00    story   9733936         NaN   \n",
       "1    NaN  1447097506 2015-11-09 19:31:46+00:00  comment  10535217  10532957.0   \n",
       "2    NaN  1462486065 2016-05-05 22:07:45+00:00  comment  11640016  11639332.0   \n",
       "3    NaN  1507771783 2017-10-12 01:29:43+00:00  comment  15455008  15454472.0   \n",
       "4    NaN  1329852926 2012-02-21 19:35:26+00:00  comment   3617742   3617076.0   \n",
       "\n",
       "   descendants ranking deleted  \n",
       "0          0.0    None    None  \n",
       "1          NaN    None    None  \n",
       "2          NaN    None    None  \n",
       "3          NaN    None    None  \n",
       "4          NaN    None    None  "
      ]
     },
     "execution_count": 6,
     "metadata": {},
     "output_type": "execute_result"
    }
   ],
   "source": [
    "client.list_rows(table, max_results=5).to_dataframe()"
   ]
  },
  {
   "cell_type": "code",
   "execution_count": 7,
   "metadata": {},
   "outputs": [],
   "source": [
    "query = \"\"\"\n",
    "        SELECT MAX(timestamp) as latestTimestamp\n",
    "        FROM `bigquery-public-data.hacker_news.full`\n",
    "        WHERE type ='story'\n",
    "        \"\"\""
   ]
  },
  {
   "cell_type": "code",
   "execution_count": 8,
   "metadata": {},
   "outputs": [
    {
     "name": "stdout",
     "output_type": "stream",
     "text": [
      "This query will process 374537619 bytes.\n"
     ]
    }
   ],
   "source": [
    "# Create a QueryJobConfig object to estimate size of query without running it\n",
    "dry_run_config = bigquery.QueryJobConfig(dry_run=True)\n",
    "\n",
    "# API request - dry run query to estimate costs\n",
    "dry_run_query_job = client.query(query, job_config=dry_run_config)\n",
    "\n",
    "print(\"This query will process {} bytes.\".format(dry_run_query_job.total_bytes_processed))"
   ]
  },
  {
   "cell_type": "code",
   "execution_count": 9,
   "metadata": {},
   "outputs": [],
   "source": [
    "query_job = client.query(query)"
   ]
  },
  {
   "cell_type": "code",
   "execution_count": 10,
   "metadata": {},
   "outputs": [
    {
     "data": {
      "text/html": [
       "<div>\n",
       "<style scoped>\n",
       "    .dataframe tbody tr th:only-of-type {\n",
       "        vertical-align: middle;\n",
       "    }\n",
       "\n",
       "    .dataframe tbody tr th {\n",
       "        vertical-align: top;\n",
       "    }\n",
       "\n",
       "    .dataframe thead th {\n",
       "        text-align: right;\n",
       "    }\n",
       "</style>\n",
       "<table border=\"1\" class=\"dataframe\">\n",
       "  <thead>\n",
       "    <tr style=\"text-align: right;\">\n",
       "      <th></th>\n",
       "      <th>latestTimestamp</th>\n",
       "    </tr>\n",
       "  </thead>\n",
       "  <tbody>\n",
       "    <tr>\n",
       "      <th>0</th>\n",
       "      <td>2020-03-03 10:06:07+00:00</td>\n",
       "    </tr>\n",
       "  </tbody>\n",
       "</table>\n",
       "</div>"
      ],
      "text/plain": [
       "            latestTimestamp\n",
       "0 2020-03-03 10:06:07+00:00"
      ]
     },
     "execution_count": 10,
     "metadata": {},
     "output_type": "execute_result"
    }
   ],
   "source": [
    "query_job.to_dataframe()\n",
    "# we see latest time is 2020-03-03"
   ]
  },
  {
   "cell_type": "code",
   "execution_count": 11,
   "metadata": {},
   "outputs": [],
   "source": [
    "query = \"\"\"\n",
    "        SELECT title,text,timestamp, url, score, dead, deleted\n",
    "        FROM `bigquery-public-data.hacker_news.full`\n",
    "        WHERE timestamp BETWEEN '2018-06-01 00:00:00' AND '2019-06-01 00:00:00' AND type ='story'\n",
    "        ORDER BY time\n",
    "        \"\"\""
   ]
  },
  {
   "cell_type": "code",
   "execution_count": 12,
   "metadata": {},
   "outputs": [
    {
     "name": "stdout",
     "output_type": "stream",
     "text": [
      "This query will process 8345765911 bytes.\n"
     ]
    }
   ],
   "source": [
    "# Create a QueryJobConfig object to estimate size of query without running it\n",
    "dry_run_config = bigquery.QueryJobConfig(dry_run=True)\n",
    "\n",
    "# API request - dry run query to estimate costs\n",
    "dry_run_query_job = client.query(query, job_config=dry_run_config)\n",
    "\n",
    "print(\"This query will process {} bytes.\".format(dry_run_query_job.total_bytes_processed))"
   ]
  },
  {
   "cell_type": "code",
   "execution_count": 13,
   "metadata": {},
   "outputs": [],
   "source": [
    "query = \"\"\"\n",
    "        SELECT tiele,text,timestamp, url, score, dead, deleted\n",
    "        FROM `bigquery-public-data.hacker_news.full`\n",
    "        WHERE timestamp BETWEEN '2013-06-01 00:00:00' AND '2019-12-30 00:00:00' AND type ='story'\n",
    "        ORDER BY time\n",
    "        \"\"\""
   ]
  },
  {
   "cell_type": "code",
   "execution_count": 14,
   "metadata": {},
   "outputs": [],
   "source": [
    "query_job = client.query(query)\n",
    "story6y = query_job.to_dataframe()"
   ]
  },
  {
   "cell_type": "code",
   "execution_count": 15,
   "metadata": {},
   "outputs": [],
   "source": [
    "story6y.to_csv('6yn.csv')"
   ]
  },
  {
   "cell_type": "code",
   "execution_count": 16,
   "metadata": {},
   "outputs": [
    {
     "name": "stdout",
     "output_type": "stream",
     "text": [
      "<class 'pandas.core.frame.DataFrame'>\n",
      "RangeIndex: 2344436 entries, 0 to 2344435\n",
      "Data columns (total 7 columns):\n",
      " #   Column     Dtype              \n",
      "---  ------     -----              \n",
      " 0   title      object             \n",
      " 1   text       object             \n",
      " 2   timestamp  datetime64[ns, UTC]\n",
      " 3   url        object             \n",
      " 4   score      float64            \n",
      " 5   dead       object             \n",
      " 6   deleted    object             \n",
      "dtypes: datetime64[ns, UTC](1), float64(1), object(5)\n",
      "memory usage: 125.2+ MB\n"
     ]
    }
   ],
   "source": [
    "story6y.info()"
   ]
  },
  {
   "cell_type": "code",
   "execution_count": 17,
   "metadata": {
    "scrolled": true
   },
   "outputs": [
    {
     "data": {
      "text/html": [
       "<div>\n",
       "<style scoped>\n",
       "    .dataframe tbody tr th:only-of-type {\n",
       "        vertical-align: middle;\n",
       "    }\n",
       "\n",
       "    .dataframe tbody tr th {\n",
       "        vertical-align: top;\n",
       "    }\n",
       "\n",
       "    .dataframe thead th {\n",
       "        text-align: right;\n",
       "    }\n",
       "</style>\n",
       "<table border=\"1\" class=\"dataframe\">\n",
       "  <thead>\n",
       "    <tr style=\"text-align: right;\">\n",
       "      <th></th>\n",
       "      <th>title</th>\n",
       "      <th>text</th>\n",
       "      <th>timestamp</th>\n",
       "      <th>url</th>\n",
       "      <th>score</th>\n",
       "      <th>dead</th>\n",
       "      <th>deleted</th>\n",
       "    </tr>\n",
       "  </thead>\n",
       "  <tbody>\n",
       "    <tr>\n",
       "      <th>0</th>\n",
       "      <td>How to Not Mess Up Your Tech Startup</td>\n",
       "      <td>None</td>\n",
       "      <td>2013-06-01 00:01:56+00:00</td>\n",
       "      <td>http://kristinabjoran.com/how-to-not-mess-up-y...</td>\n",
       "      <td>2.0</td>\n",
       "      <td>None</td>\n",
       "      <td>None</td>\n",
       "    </tr>\n",
       "    <tr>\n",
       "      <th>1</th>\n",
       "      <td>None</td>\n",
       "      <td>None</td>\n",
       "      <td>2013-06-01 00:03:32+00:00</td>\n",
       "      <td>None</td>\n",
       "      <td>NaN</td>\n",
       "      <td>True</td>\n",
       "      <td>True</td>\n",
       "    </tr>\n",
       "    <tr>\n",
       "      <th>2</th>\n",
       "      <td>Someday you may ditch your two-factor authenti...</td>\n",
       "      <td>None</td>\n",
       "      <td>2013-06-01 00:04:34+00:00</td>\n",
       "      <td>http://arstechnica.com/security/2013/05/someda...</td>\n",
       "      <td>1.0</td>\n",
       "      <td>None</td>\n",
       "      <td>None</td>\n",
       "    </tr>\n",
       "    <tr>\n",
       "      <th>3</th>\n",
       "      <td>None</td>\n",
       "      <td>None</td>\n",
       "      <td>2013-06-01 00:05:35+00:00</td>\n",
       "      <td>None</td>\n",
       "      <td>NaN</td>\n",
       "      <td>True</td>\n",
       "      <td>True</td>\n",
       "    </tr>\n",
       "    <tr>\n",
       "      <th>4</th>\n",
       "      <td>Will State.com become the world's opinion forum?</td>\n",
       "      <td>None</td>\n",
       "      <td>2013-06-01 00:05:54+00:00</td>\n",
       "      <td>http://pandodaily.com/2013/05/31/making-sense-...</td>\n",
       "      <td>2.0</td>\n",
       "      <td>None</td>\n",
       "      <td>None</td>\n",
       "    </tr>\n",
       "    <tr>\n",
       "      <th>5</th>\n",
       "      <td>LightUp Teaches Kids Electronics With Augmente...</td>\n",
       "      <td>None</td>\n",
       "      <td>2013-06-01 00:06:49+00:00</td>\n",
       "      <td>http://techcrunch.com/2013/05/31/lightup-helps...</td>\n",
       "      <td>16.0</td>\n",
       "      <td>None</td>\n",
       "      <td>None</td>\n",
       "    </tr>\n",
       "    <tr>\n",
       "      <th>6</th>\n",
       "      <td>Getting Things Done: Why GTD for Sales is the ...</td>\n",
       "      <td>None</td>\n",
       "      <td>2013-06-01 00:07:12+00:00</td>\n",
       "      <td>http://blog.voltagecrm.com/getting-things-done...</td>\n",
       "      <td>1.0</td>\n",
       "      <td>None</td>\n",
       "      <td>None</td>\n",
       "    </tr>\n",
       "    <tr>\n",
       "      <th>7</th>\n",
       "      <td>Never let that fire go out</td>\n",
       "      <td>None</td>\n",
       "      <td>2013-06-01 00:12:28+00:00</td>\n",
       "      <td>https://medium.com/advice-to-graduates/8c7bcb3...</td>\n",
       "      <td>1.0</td>\n",
       "      <td>None</td>\n",
       "      <td>None</td>\n",
       "    </tr>\n",
       "    <tr>\n",
       "      <th>8</th>\n",
       "      <td>Ask HN:  Where/how to get the 'typical startup...</td>\n",
       "      <td>Are all startup websites based on a certain th...</td>\n",
       "      <td>2013-06-01 00:15:44+00:00</td>\n",
       "      <td>None</td>\n",
       "      <td>2.0</td>\n",
       "      <td>None</td>\n",
       "      <td>None</td>\n",
       "    </tr>\n",
       "    <tr>\n",
       "      <th>9</th>\n",
       "      <td>Rest.li a framework from LinkedIn for building...</td>\n",
       "      <td>None</td>\n",
       "      <td>2013-06-01 00:18:40+00:00</td>\n",
       "      <td>http://rest.li/</td>\n",
       "      <td>3.0</td>\n",
       "      <td>None</td>\n",
       "      <td>None</td>\n",
       "    </tr>\n",
       "  </tbody>\n",
       "</table>\n",
       "</div>"
      ],
      "text/plain": [
       "                                               title  \\\n",
       "0               How to Not Mess Up Your Tech Startup   \n",
       "1                                               None   \n",
       "2  Someday you may ditch your two-factor authenti...   \n",
       "3                                               None   \n",
       "4   Will State.com become the world's opinion forum?   \n",
       "5  LightUp Teaches Kids Electronics With Augmente...   \n",
       "6  Getting Things Done: Why GTD for Sales is the ...   \n",
       "7                         Never let that fire go out   \n",
       "8  Ask HN:  Where/how to get the 'typical startup...   \n",
       "9  Rest.li a framework from LinkedIn for building...   \n",
       "\n",
       "                                                text  \\\n",
       "0                                               None   \n",
       "1                                               None   \n",
       "2                                               None   \n",
       "3                                               None   \n",
       "4                                               None   \n",
       "5                                               None   \n",
       "6                                               None   \n",
       "7                                               None   \n",
       "8  Are all startup websites based on a certain th...   \n",
       "9                                               None   \n",
       "\n",
       "                  timestamp  \\\n",
       "0 2013-06-01 00:01:56+00:00   \n",
       "1 2013-06-01 00:03:32+00:00   \n",
       "2 2013-06-01 00:04:34+00:00   \n",
       "3 2013-06-01 00:05:35+00:00   \n",
       "4 2013-06-01 00:05:54+00:00   \n",
       "5 2013-06-01 00:06:49+00:00   \n",
       "6 2013-06-01 00:07:12+00:00   \n",
       "7 2013-06-01 00:12:28+00:00   \n",
       "8 2013-06-01 00:15:44+00:00   \n",
       "9 2013-06-01 00:18:40+00:00   \n",
       "\n",
       "                                                 url  score  dead deleted  \n",
       "0  http://kristinabjoran.com/how-to-not-mess-up-y...    2.0  None    None  \n",
       "1                                               None    NaN  True    True  \n",
       "2  http://arstechnica.com/security/2013/05/someda...    1.0  None    None  \n",
       "3                                               None    NaN  True    True  \n",
       "4  http://pandodaily.com/2013/05/31/making-sense-...    2.0  None    None  \n",
       "5  http://techcrunch.com/2013/05/31/lightup-helps...   16.0  None    None  \n",
       "6  http://blog.voltagecrm.com/getting-things-done...    1.0  None    None  \n",
       "7  https://medium.com/advice-to-graduates/8c7bcb3...    1.0  None    None  \n",
       "8                                               None    2.0  None    None  \n",
       "9                                    http://rest.li/    3.0  None    None  "
      ]
     },
     "execution_count": 17,
     "metadata": {},
     "output_type": "execute_result"
    }
   ],
   "source": [
    "story6y.head(10)"
   ]
  },
  {
   "cell_type": "code",
   "execution_count": 18,
   "metadata": {},
   "outputs": [],
   "source": [
    "# replace non values with nan\n",
    "story6y.fillna(value=np.nan, inplace=True)\n",
    "# filter out delted stories\n",
    "story6y_f = story6y[story6y.deleted.isnull()]"
   ]
  },
  {
   "cell_type": "code",
   "execution_count": 19,
   "metadata": {},
   "outputs": [],
   "source": [
    "# build the series of content, ignoring nan values\n",
    "stories = story6y_f.title.fillna(' ').astype(str) + ' ' + story6y_f.text.fillna(' ').astype(str)"
   ]
  },
  {
   "cell_type": "code",
   "execution_count": 135,
   "metadata": {
    "scrolled": false
   },
   "outputs": [
    {
     "data": {
      "text/plain": [
       "0                     How to Not Mess Up Your Tech Startup  \n",
       "2          Someday you may ditch your two-factor authenti...\n",
       "4           Will State.com become the world's opinion for...\n",
       "5          LightUp Teaches Kids Electronics With Augmente...\n",
       "6          Getting Things Done: Why GTD for Sales is the ...\n",
       "                                 ...                        \n",
       "2128596    Credit Score The best credit repair is from es...\n",
       "2128598    Solving Tech's Ethics Problem Could Start in t...\n",
       "2128599        “Why” and “How” TrueCar Moved to True CI/CD  \n",
       "2128600    Undesign: Collection of free design tools and ...\n",
       "2128601    Bismarck vs. Beveridge: is there increasing co...\n",
       "Length: 2036083, dtype: object"
      ]
     },
     "execution_count": 135,
     "metadata": {},
     "output_type": "execute_result"
    }
   ],
   "source": [
    "stories"
   ]
  },
  {
   "cell_type": "code",
   "execution_count": 156,
   "metadata": {},
   "outputs": [],
   "source": [
    "# extract domain as an additional feature\n",
    "import tldextract\n",
    "domains = story6y_f.url.fillna(' ')"
   ]
  },
  {
   "cell_type": "code",
   "execution_count": 158,
   "metadata": {},
   "outputs": [],
   "source": [
    "maindomain = domains.apply(lambda x: tldextract.extract(x).domain)"
   ]
  },
  {
   "cell_type": "code",
   "execution_count": 221,
   "metadata": {},
   "outputs": [],
   "source": [
    "top15sites = maindomain.value_counts()[1:16]"
   ]
  },
  {
   "cell_type": "code",
   "execution_count": 222,
   "metadata": {},
   "outputs": [
    {
     "data": {
      "text/plain": [
       "github         94921\n",
       "medium         83323\n",
       "youtube        50240\n",
       "nytimes        35567\n",
       "techcrunch     25234\n",
       "blogspot       22677\n",
       "bbc            20582\n",
       "theguardian    17610\n",
       "arstechnica    17524\n",
       "google         16807\n",
       "bloomberg      15419\n",
       "wikipedia      14081\n",
       "theverge       13611\n",
       "wired          13046\n",
       "wsj            12556\n",
       "Name: url, dtype: int64"
      ]
     },
     "execution_count": 222,
     "metadata": {},
     "output_type": "execute_result"
    }
   ],
   "source": [
    "top15sites"
   ]
  },
  {
   "cell_type": "code",
   "execution_count": 160,
   "metadata": {},
   "outputs": [],
   "source": [
    "import nltk\n",
    "from nltk.stem import WordNetLemmatizer\n",
    "from nltk.corpus import stopwords\n",
    "from nltk.tokenize import word_tokenize"
   ]
  },
  {
   "cell_type": "code",
   "execution_count": 61,
   "metadata": {},
   "outputs": [],
   "source": [
    "# text prepprocessing\n",
    "lemmatizer=WordNetLemmatizer() #For words Lemmatization\n",
    "stop_words=set(stopwords.words('english'))"
   ]
  },
  {
   "cell_type": "code",
   "execution_count": 171,
   "metadata": {},
   "outputs": [],
   "source": [
    "# text processing\n",
    "# 1. convert to lower case, clean text of all punctuations\n",
    "# 2. remove stop words\n",
    "# 3. lemmatize\n",
    "\n",
    "def process_text(text):\n",
    "    tokenized_text = word_tokenize(text.lower())\n",
    "    cleaned_text = ' '.join([lemmatizer.lemmatize(t) for t in tokenized_text if t not in stop_words and re.match('[a-zA-Z\\-][a-zA-Z\\-]{2,}', t)])\n",
    "    return cleaned_text\n"
   ]
  },
  {
   "cell_type": "code",
   "execution_count": 182,
   "metadata": {},
   "outputs": [],
   "source": [
    "stories_clean = stories.apply(lambda x: process_text(x))"
   ]
  },
  {
   "cell_type": "code",
   "execution_count": null,
   "metadata": {},
   "outputs": [],
   "source": [
    "top15words = stories_clean.apply(lambda x: x.split()).value_counts()[1:16]"
   ]
  },
  {
   "cell_type": "code",
   "execution_count": 1,
   "metadata": {},
   "outputs": [
    {
     "ename": "NameError",
     "evalue": "name 'stories_clean' is not defined",
     "output_type": "error",
     "traceback": [
      "\u001b[1;31m---------------------------------------------------------------------------\u001b[0m",
      "\u001b[1;31mNameError\u001b[0m                                 Traceback (most recent call last)",
      "\u001b[1;32m<ipython-input-1-b71cd9346a27>\u001b[0m in \u001b[0;36m<module>\u001b[1;34m\u001b[0m\n\u001b[1;32m----> 1\u001b[1;33m \u001b[0mstories_clean\u001b[0m\u001b[1;33m\u001b[0m\u001b[1;33m\u001b[0m\u001b[0m\n\u001b[0m",
      "\u001b[1;31mNameError\u001b[0m: name 'stories_clean' is not defined"
     ]
    }
   ],
   "source": [
    "stories_clean"
   ]
  },
  {
   "cell_type": "code",
   "execution_count": 186,
   "metadata": {},
   "outputs": [],
   "source": [
    "# add main domain name back to stories\n",
    "stories_aug = stories_clean + ' ' + maindomain"
   ]
  },
  {
   "cell_type": "code",
   "execution_count": 191,
   "metadata": {
    "scrolled": true
   },
   "outputs": [
    {
     "data": {
      "text/plain": [
       "0                           mess tech startup kristinabjoran\n",
       "2          someday may ditch two-factor authenticator ele...\n",
       "4            state.com become world opinion forum pandodaily\n",
       "5          lightup teach kid electronics augmented realit...\n",
       "6              getting thing done gtd sale answer voltagecrm\n",
       "                                 ...                        \n",
       "2128596    credit score best credit repair esaycredit pay...\n",
       "2128598    solving tech ethic problem could start classro...\n",
       "2128599                            truecar moved true medium\n",
       "2128600    undesign collection free design tool resource ...\n",
       "2128601    bismarck beveridge increasing convergence heal...\n",
       "Length: 2036083, dtype: object"
      ]
     },
     "execution_count": 191,
     "metadata": {},
     "output_type": "execute_result"
    }
   ],
   "source": [
    "stories_aug"
   ]
  },
  {
   "cell_type": "code",
   "execution_count": 197,
   "metadata": {},
   "outputs": [],
   "source": [
    "# if using genism, need the tokenzied form for input\n",
    "stories_token = stories_aug.apply(lambda x: x.split())"
   ]
  },
  {
   "cell_type": "code",
   "execution_count": 199,
   "metadata": {},
   "outputs": [],
   "source": [
    "from gensim import corpora\n",
    "dictionary = corpora.Dictionary(stories_token)\n",
    "corpus = [dictionary.doc2bow(text) for text in stories_token]\n",
    "\n",
    "import pickle\n",
    "pickle.dump(corpus, open('corpus.pkl', 'wb'))\n",
    "dictionary.save('dictionary.gensim')\n"
   ]
  },
  {
   "cell_type": "code",
   "execution_count": 202,
   "metadata": {},
   "outputs": [],
   "source": [
    "import gensim\n",
    "# assume we have 15 topics\n",
    "ldamodel = gensim.models.ldamodel.LdaModel(corpus, num_topics = 15, id2word=dictionary, passes=5)\n",
    "ldamodel.save('hn15.gensim')\n"
   ]
  },
  {
   "cell_type": "code",
   "execution_count": 204,
   "metadata": {},
   "outputs": [
    {
     "name": "stdout",
     "output_type": "stream",
     "text": [
      "(0, '0.078*\"youtube\" + 0.051*\"video\" + 0.040*\"game\" + 0.024*\"model\" + 0.023*\"news\" + 0.019*\"car\" + 0.019*\"youtu\" + 0.017*\"hacker\" + 0.017*\"wired\" + 0.017*\"tesla\"')\n",
      "(1, '0.033*\"china\" + 0.023*\"launch\" + 0.022*\"phone\" + 0.020*\"buy\" + 0.020*\"market\" + 0.019*\"research\" + 0.017*\"remote\" + 0.017*\"tip\" + 0.015*\"find\" + 0.015*\"call\"')\n",
      "(2, '0.040*\"build\" + 0.039*\"design\" + 0.023*\"part\" + 0.022*\"building\" + 0.021*\"api\" + 0.021*\"image\" + 0.021*\"javascript\" + 0.020*\"interview\" + 0.020*\"product\" + 0.019*\"process\"')\n",
      "(3, '0.108*\"google\" + 0.041*\"service\" + 0.035*\"network\" + 0.032*\"user\" + 0.025*\"guide\" + 0.024*\"search\" + 0.021*\"reddit\" + 0.018*\"key\" + 0.018*\"city\" + 0.013*\"black\"')\n",
      "(4, '0.162*\"medium\" + 0.076*\"data\" + 0.050*\"nytimes\" + 0.034*\"pdf\" + 0.025*\"theverge\" + 0.022*\"cloud\" + 0.021*\"social\" + 0.016*\"uber\" + 0.016*\"big\" + 0.016*\"privacy\"')\n",
      "(5, '0.029*\"ask\" + 0.020*\"like\" + 0.020*\"quot\" + 0.016*\"work\" + 0.015*\"would\" + 0.014*\"people\" + 0.013*\"get\" + 0.012*\"one\" + 0.012*\"know\" + 0.011*\"want\"')\n",
      "(6, '0.050*\"twitter\" + 0.039*\"theguardian\" + 0.035*\"say\" + 0.026*\"top\" + 0.026*\"may\" + 0.025*\"internet\" + 0.025*\"wsj\" + 0.018*\"case\" + 0.017*\"cost\" + 0.017*\"washingtonpost\"')\n",
      "(7, '0.048*\"learning\" + 0.034*\"bloomberg\" + 0.030*\"machine\" + 0.030*\"language\" + 0.028*\"programming\" + 0.019*\"python\" + 0.019*\"deep\" + 0.018*\"home\" + 0.018*\"learn\" + 0.016*\"job\"')\n",
      "(8, '0.132*\"github\" + 0.095*\"show\" + 0.038*\"open\" + 0.030*\"amazon\" + 0.030*\"microsoft\" + 0.029*\"source\" + 0.024*\"arstechnica\" + 0.023*\"linux\" + 0.020*\"project\" + 0.018*\"window\"')\n",
      "(9, '0.038*\"first\" + 0.038*\"world\" + 0.031*\"bbc\" + 0.030*\"year\" + 0.028*\"time\" + 0.028*\"life\" + 0.021*\"computer\" + 0.020*\"science\" + 0.020*\"human\" + 0.017*\"technology\"')\n",
      "(10, '0.040*\"startup\" + 0.039*\"tech\" + 0.034*\"business\" + 0.028*\"company\" + 0.021*\"platform\" + 0.020*\"live\" + 0.018*\"report\" + 0.018*\"change\" + 0.014*\"plan\" + 0.013*\"blockchain\"')\n",
      "(11, '0.048*\"wikipedia\" + 0.031*\"blogspot\" + 0.027*\"study\" + 0.026*\"history\" + 0.022*\"performance\" + 0.019*\"woman\" + 0.019*\"brain\" + 0.019*\"war\" + 0.019*\"law\" + 0.018*\"food\"')\n",
      "(12, '0.056*\"facebook\" + 0.046*\"apple\" + 0.039*\"system\" + 0.038*\"security\" + 0.032*\"test\" + 0.022*\"aws\" + 0.018*\"release\" + 0.017*\"fast\" + 0.017*\"sale\" + 0.016*\"making\"')\n",
      "(13, '0.056*\"http\" + 0.029*\"free\" + 0.024*\"code\" + 0.017*\"online\" + 0.016*\"email\" + 0.016*\"book\" + 0.016*\"review\" + 0.016*\"file\" + 0.015*\"credit\" + 0.014*\"still\"')\n",
      "(14, '0.044*\"app\" + 0.037*\"web\" + 0.029*\"software\" + 0.026*\"developer\" + 0.024*\"tool\" + 0.022*\"development\" + 0.021*\"using\" + 0.020*\"application\" + 0.018*\"apps\" + 0.017*\"create\"')\n"
     ]
    }
   ],
   "source": [
    "topics = ldamodel.print_topics(num_words=10)\n",
    "for topic in topics:\n",
    "    print(topic)"
   ]
  },
  {
   "cell_type": "code",
   "execution_count": 205,
   "metadata": {},
   "outputs": [
    {
     "name": "stderr",
     "output_type": "stream",
     "text": [
      "D:\\python3\\envs\\tdi\\lib\\site-packages\\pyLDAvis\\_prepare.py:257: FutureWarning: Sorting because non-concatenation axis is not aligned. A future version\n",
      "of pandas will change to not sort by default.\n",
      "\n",
      "To accept the future behavior, pass 'sort=False'.\n",
      "\n",
      "To retain the current behavior and silence the warning, pass 'sort=True'.\n",
      "\n",
      "  return pd.concat([default_term_info] + list(topic_dfs))\n"
     ]
    },
    {
     "data": {
      "text/html": [
       "\n",
       "<link rel=\"stylesheet\" type=\"text/css\" href=\"https://cdn.rawgit.com/bmabey/pyLDAvis/files/ldavis.v1.0.0.css\">\n",
       "\n",
       "\n",
       "<div id=\"ldavis_el1600422909764160729332784430\"></div>\n",
       "<script type=\"text/javascript\">\n",
       "\n",
       "var ldavis_el1600422909764160729332784430_data = {\"mdsDat\": {\"x\": [-0.027469418143588702, 0.007863554333528056, -0.02136852305571162, -0.09541122350489262, -0.046237451627484064, 0.3049367771895417, -0.009869454181529803, -0.03898867521103136, -0.1317879884272089, 0.2866019310095127, 0.025447217127869664, -0.1674718962801736, -0.06828042752603303, -0.050874453395481224, 0.03291003169268274], \"y\": [0.1827511441301992, 0.060404644206844715, -0.1577148187561239, -0.012105845036776508, 0.1272489739634463, -0.05686620107044268, 0.14395159927589293, -0.10142585725558638, -0.14259790795237123, 0.08902883014941983, 0.03970668166500912, 0.12458702676133451, 0.07909938068076237, -0.16749696857051707, -0.20857068219109098], \"topics\": [1, 2, 3, 4, 5, 6, 7, 8, 9, 10, 11, 12, 13, 14, 15], \"cluster\": [1, 1, 1, 1, 1, 1, 1, 1, 1, 1, 1, 1, 1, 1, 1], \"Freq\": [5.559110641479492, 5.137331962585449, 5.11007022857666, 4.949999809265137, 5.537436485290527, 19.99586296081543, 4.8895416259765625, 5.6604838371276855, 6.278912544250488, 6.306679725646973, 6.263149738311768, 3.9382550716400146, 4.601023197174072, 8.333054542541504, 7.439089775085449]}, \"tinfo\": {\"Category\": [\"Default\", \"Default\", \"Default\", \"Default\", \"Default\", \"Default\", \"Default\", \"Default\", \"Default\", \"Default\", \"Default\", \"Default\", \"Default\", \"Default\", \"Default\", \"Default\", \"Default\", \"Default\", \"Default\", \"Default\", \"Default\", \"Default\", \"Default\", \"Default\", \"Default\", \"Default\", \"Default\", \"Default\", \"Default\", \"Default\", \"Topic1\", \"Topic1\", \"Topic1\", \"Topic1\", \"Topic1\", \"Topic1\", \"Topic1\", \"Topic1\", \"Topic1\", \"Topic1\", \"Topic1\", \"Topic1\", \"Topic1\", \"Topic1\", \"Topic1\", \"Topic1\", \"Topic1\", \"Topic1\", \"Topic1\", \"Topic1\", \"Topic1\", \"Topic1\", \"Topic1\", \"Topic1\", \"Topic1\", \"Topic1\", \"Topic1\", \"Topic1\", \"Topic1\", \"Topic1\", \"Topic1\", \"Topic1\", \"Topic1\", \"Topic1\", \"Topic1\", \"Topic2\", \"Topic2\", \"Topic2\", \"Topic2\", \"Topic2\", \"Topic2\", \"Topic2\", \"Topic2\", \"Topic2\", \"Topic2\", \"Topic2\", \"Topic2\", \"Topic2\", \"Topic2\", \"Topic2\", \"Topic2\", \"Topic2\", \"Topic2\", \"Topic2\", \"Topic2\", \"Topic2\", \"Topic2\", \"Topic2\", \"Topic2\", \"Topic2\", \"Topic2\", \"Topic2\", \"Topic2\", \"Topic2\", \"Topic2\", \"Topic2\", \"Topic2\", \"Topic2\", \"Topic2\", \"Topic2\", \"Topic2\", \"Topic2\", \"Topic2\", \"Topic2\", \"Topic3\", \"Topic3\", \"Topic3\", \"Topic3\", \"Topic3\", \"Topic3\", \"Topic3\", \"Topic3\", \"Topic3\", \"Topic3\", \"Topic3\", \"Topic3\", \"Topic3\", \"Topic3\", \"Topic3\", \"Topic3\", \"Topic3\", \"Topic3\", \"Topic3\", \"Topic3\", \"Topic3\", \"Topic3\", \"Topic3\", \"Topic3\", \"Topic3\", \"Topic3\", \"Topic3\", \"Topic3\", \"Topic3\", \"Topic3\", \"Topic3\", \"Topic3\", \"Topic3\", \"Topic3\", \"Topic3\", \"Topic3\", \"Topic3\", \"Topic3\", \"Topic3\", \"Topic3\", \"Topic4\", \"Topic4\", \"Topic4\", \"Topic4\", \"Topic4\", \"Topic4\", \"Topic4\", \"Topic4\", \"Topic4\", \"Topic4\", \"Topic4\", \"Topic4\", \"Topic4\", \"Topic4\", \"Topic4\", \"Topic4\", \"Topic4\", \"Topic4\", \"Topic4\", \"Topic4\", \"Topic4\", \"Topic4\", \"Topic4\", \"Topic4\", \"Topic4\", \"Topic4\", \"Topic4\", \"Topic4\", \"Topic4\", \"Topic4\", \"Topic4\", \"Topic4\", \"Topic4\", \"Topic4\", \"Topic4\", \"Topic4\", \"Topic4\", \"Topic5\", \"Topic5\", \"Topic5\", \"Topic5\", \"Topic5\", \"Topic5\", \"Topic5\", \"Topic5\", \"Topic5\", \"Topic5\", \"Topic5\", \"Topic5\", \"Topic5\", \"Topic5\", \"Topic5\", \"Topic5\", \"Topic5\", \"Topic5\", \"Topic5\", \"Topic5\", \"Topic5\", \"Topic5\", \"Topic5\", \"Topic5\", \"Topic5\", \"Topic5\", \"Topic5\", \"Topic5\", \"Topic5\", \"Topic5\", \"Topic5\", \"Topic5\", \"Topic5\", \"Topic5\", \"Topic6\", \"Topic6\", \"Topic6\", \"Topic6\", \"Topic6\", \"Topic6\", \"Topic6\", \"Topic6\", \"Topic6\", \"Topic6\", \"Topic6\", \"Topic6\", \"Topic6\", \"Topic6\", \"Topic6\", \"Topic6\", \"Topic6\", \"Topic6\", \"Topic6\", \"Topic6\", \"Topic6\", \"Topic6\", \"Topic6\", \"Topic6\", \"Topic6\", \"Topic6\", \"Topic6\", \"Topic6\", \"Topic6\", \"Topic6\", \"Topic6\", \"Topic6\", \"Topic6\", \"Topic6\", \"Topic6\", \"Topic6\", \"Topic6\", \"Topic6\", \"Topic6\", \"Topic6\", \"Topic6\", \"Topic6\", \"Topic7\", \"Topic7\", \"Topic7\", \"Topic7\", \"Topic7\", \"Topic7\", \"Topic7\", \"Topic7\", \"Topic7\", \"Topic7\", \"Topic7\", \"Topic7\", \"Topic7\", \"Topic7\", \"Topic7\", \"Topic7\", \"Topic7\", \"Topic7\", \"Topic7\", \"Topic7\", \"Topic7\", \"Topic7\", \"Topic7\", \"Topic7\", \"Topic7\", \"Topic7\", \"Topic7\", \"Topic7\", \"Topic7\", \"Topic7\", \"Topic7\", \"Topic7\", \"Topic7\", \"Topic7\", \"Topic7\", \"Topic7\", \"Topic7\", \"Topic7\", \"Topic7\", \"Topic8\", \"Topic8\", \"Topic8\", \"Topic8\", \"Topic8\", \"Topic8\", \"Topic8\", \"Topic8\", \"Topic8\", \"Topic8\", \"Topic8\", \"Topic8\", \"Topic8\", \"Topic8\", \"Topic8\", \"Topic8\", \"Topic8\", \"Topic8\", \"Topic8\", \"Topic8\", \"Topic8\", \"Topic8\", \"Topic8\", \"Topic8\", \"Topic8\", \"Topic8\", \"Topic8\", \"Topic8\", \"Topic8\", \"Topic8\", \"Topic8\", \"Topic8\", \"Topic8\", \"Topic8\", \"Topic8\", \"Topic8\", \"Topic8\", \"Topic8\", \"Topic8\", \"Topic8\", \"Topic8\", \"Topic9\", \"Topic9\", \"Topic9\", \"Topic9\", \"Topic9\", \"Topic9\", \"Topic9\", \"Topic9\", \"Topic9\", \"Topic9\", \"Topic9\", \"Topic9\", \"Topic9\", \"Topic9\", \"Topic9\", \"Topic9\", \"Topic9\", \"Topic9\", \"Topic9\", \"Topic9\", \"Topic9\", \"Topic9\", \"Topic9\", \"Topic9\", \"Topic9\", \"Topic9\", \"Topic9\", \"Topic9\", \"Topic9\", \"Topic9\", \"Topic9\", \"Topic9\", \"Topic9\", \"Topic9\", \"Topic9\", \"Topic9\", \"Topic9\", \"Topic9\", \"Topic10\", \"Topic10\", \"Topic10\", \"Topic10\", \"Topic10\", \"Topic10\", \"Topic10\", \"Topic10\", \"Topic10\", \"Topic10\", \"Topic10\", \"Topic10\", \"Topic10\", \"Topic10\", \"Topic10\", \"Topic10\", \"Topic10\", \"Topic10\", \"Topic10\", \"Topic10\", \"Topic10\", \"Topic10\", \"Topic10\", \"Topic10\", \"Topic10\", \"Topic10\", \"Topic10\", \"Topic10\", \"Topic10\", \"Topic10\", \"Topic10\", \"Topic10\", \"Topic10\", \"Topic10\", \"Topic10\", \"Topic10\", \"Topic10\", \"Topic10\", \"Topic10\", \"Topic10\", \"Topic10\", \"Topic10\", \"Topic10\", \"Topic10\", \"Topic10\", \"Topic11\", \"Topic11\", \"Topic11\", \"Topic11\", \"Topic11\", \"Topic11\", \"Topic11\", \"Topic11\", \"Topic11\", \"Topic11\", \"Topic11\", \"Topic11\", \"Topic11\", \"Topic11\", \"Topic11\", \"Topic11\", \"Topic11\", \"Topic11\", \"Topic11\", \"Topic11\", \"Topic11\", \"Topic11\", \"Topic11\", \"Topic11\", \"Topic11\", \"Topic11\", \"Topic11\", \"Topic11\", \"Topic11\", \"Topic11\", \"Topic11\", \"Topic11\", \"Topic11\", \"Topic11\", \"Topic11\", \"Topic11\", \"Topic11\", \"Topic11\", \"Topic12\", \"Topic12\", \"Topic12\", \"Topic12\", \"Topic12\", \"Topic12\", \"Topic12\", \"Topic12\", \"Topic12\", \"Topic12\", \"Topic12\", \"Topic12\", \"Topic12\", \"Topic12\", \"Topic12\", \"Topic12\", \"Topic12\", \"Topic12\", \"Topic12\", \"Topic12\", \"Topic12\", \"Topic12\", \"Topic12\", \"Topic12\", \"Topic12\", \"Topic12\", \"Topic12\", \"Topic12\", \"Topic12\", \"Topic12\", \"Topic12\", \"Topic12\", \"Topic13\", \"Topic13\", \"Topic13\", \"Topic13\", \"Topic13\", \"Topic13\", \"Topic13\", \"Topic13\", \"Topic13\", \"Topic13\", \"Topic13\", \"Topic13\", \"Topic13\", \"Topic13\", \"Topic13\", \"Topic13\", \"Topic13\", \"Topic13\", \"Topic13\", \"Topic13\", \"Topic13\", \"Topic13\", \"Topic13\", \"Topic13\", \"Topic13\", \"Topic13\", \"Topic13\", \"Topic13\", \"Topic13\", \"Topic13\", \"Topic13\", \"Topic13\", \"Topic13\", \"Topic13\", \"Topic13\", \"Topic13\", \"Topic13\", \"Topic14\", \"Topic14\", \"Topic14\", \"Topic14\", \"Topic14\", \"Topic14\", \"Topic14\", \"Topic14\", \"Topic14\", \"Topic14\", \"Topic14\", \"Topic14\", \"Topic14\", \"Topic14\", \"Topic14\", \"Topic14\", \"Topic14\", \"Topic14\", \"Topic14\", \"Topic14\", \"Topic14\", \"Topic14\", \"Topic14\", \"Topic14\", \"Topic14\", \"Topic14\", \"Topic14\", \"Topic14\", \"Topic14\", \"Topic14\", \"Topic14\", \"Topic14\", \"Topic14\", \"Topic14\", \"Topic14\", \"Topic14\", \"Topic15\", \"Topic15\", \"Topic15\", \"Topic15\", \"Topic15\", \"Topic15\", \"Topic15\", \"Topic15\", \"Topic15\", \"Topic15\", \"Topic15\", \"Topic15\", \"Topic15\", \"Topic15\", \"Topic15\", \"Topic15\", \"Topic15\", \"Topic15\", \"Topic15\", \"Topic15\", \"Topic15\", \"Topic15\", \"Topic15\", \"Topic15\", \"Topic15\", \"Topic15\", \"Topic15\", \"Topic15\", \"Topic15\", \"Topic15\", \"Topic15\", \"Topic15\", \"Topic15\", \"Topic15\", \"Topic15\", \"Topic15\", \"Topic15\", \"Topic15\", \"Topic15\", \"Topic15\", \"Topic15\", \"Topic15\", \"Topic15\"], \"Freq\": [157479.0, 145160.0, 105351.0, 93827.0, 76289.0, 74157.0, 91403.0, 100482.0, 56988.0, 50143.0, 48573.0, 44903.0, 47605.0, 42801.0, 48457.0, 44262.0, 63796.0, 59511.0, 61811.0, 45923.0, 42907.0, 42412.0, 42331.0, 41927.0, 37502.0, 46541.0, 39330.0, 70253.0, 69889.0, 52383.0, 76288.6015625, 50142.5703125, 39329.01953125, 23829.40625, 22065.296875, 18680.876953125, 18127.08203125, 17089.919921875, 16993.73046875, 16995.2421875, 15019.0634765625, 12719.115234375, 12103.92578125, 11801.048828125, 10597.646484375, 9254.4140625, 8813.3349609375, 8420.21875, 8188.36572265625, 8140.5, 7940.0, 7371.767578125, 7044.7001953125, 7039.80810546875, 6787.38623046875, 6590.54150390625, 6590.4345703125, 6556.880859375, 6539.80322265625, 6276.0283203125, 6280.7119140625, 8915.51171875, 14975.6328125, 7368.34326171875, 15313.39453125, 29667.25390625, 20759.689453125, 19751.943359375, 18412.130859375, 17002.4140625, 15298.1376953125, 15041.2236328125, 13490.630859375, 12380.30078125, 12201.0380859375, 11250.841796875, 10742.1669921875, 10186.8349609375, 9748.6953125, 9410.5234375, 9416.3779296875, 9288.8486328125, 8350.5859375, 7973.966796875, 7674.02978515625, 7391.79345703125, 7113.0390625, 7010.91650390625, 6854.66162109375, 6744.24609375, 6690.21484375, 6228.62158203125, 5969.10888671875, 5927.8505859375, 5891.5791015625, 17963.0546875, 10516.9091796875, 13132.6748046875, 10778.73828125, 9415.126953125, 13643.728515625, 8469.5400390625, 7394.5537109375, 7819.486328125, 35774.4609375, 35404.55078125, 19163.576171875, 18969.416015625, 17993.984375, 16763.0234375, 14647.5830078125, 14077.4912109375, 10466.0966796875, 9664.4833984375, 9188.0888671875, 8688.291015625, 8584.923828125, 8227.384765625, 8120.67578125, 7884.21630859375, 7757.8173828125, 7716.021484375, 7588.9521484375, 7440.302734375, 7299.7509765625, 6968.8701171875, 6843.60107421875, 6624.734375, 6428.41455078125, 6382.74755859375, 6236.69873046875, 5961.96240234375, 5813.05224609375, 5744.2958984375, 20288.916015625, 20200.0546875, 18625.068359375, 8675.7548828125, 16228.318359375, 17621.041015625, 11062.384765625, 14353.787109375, 7922.47998046875, 7376.33251953125, 93826.375, 30849.78515625, 22079.130859375, 21062.79296875, 18260.92578125, 15589.0439453125, 15272.8466796875, 11616.4013671875, 11263.7197265625, 10863.2763671875, 10790.5703125, 9785.830078125, 9721.5068359375, 9357.45703125, 9317.353515625, 8608.83203125, 8501.3544921875, 8133.298828125, 7938.8671875, 7918.7080078125, 7697.89208984375, 7448.5888671875, 7060.720703125, 6993.11865234375, 6360.50732421875, 6167.1357421875, 6149.39599609375, 6039.42138671875, 5815.92919921875, 5764.068359375, 35421.38671875, 27651.36328125, 8072.62060546875, 10266.1533203125, 7129.7451171875, 8109.69873046875, 7551.79052734375, 157478.6875, 74155.8125, 48572.484375, 33222.0390625, 24265.79296875, 21504.658203125, 15671.234375, 15429.46875, 14078.8388671875, 14039.5263671875, 13852.765625, 11730.16796875, 10840.9873046875, 10383.4775390625, 10175.6484375, 9951.5458984375, 8616.7041015625, 8494.75390625, 7562.6943359375, 7448.1748046875, 7349.060546875, 7015.29736328125, 6997.0576171875, 6983.56298828125, 6821.87841796875, 6824.57470703125, 6739.83056640625, 6414.564453125, 5921.23193359375, 5660.1640625, 20694.63671875, 15519.0419921875, 9477.033203125, 10588.65625, 100481.46875, 70252.5625, 69888.171875, 57948.17578125, 54329.59765625, 47990.25390625, 40711.84375, 40351.734375, 38889.75390625, 34941.703125, 29646.896484375, 26876.70703125, 24790.49609375, 23364.748046875, 22757.076171875, 22286.9296875, 22162.267578125, 21693.373046875, 20348.0625, 20285.814453125, 20264.873046875, 19390.259765625, 18506.7265625, 18093.74609375, 17620.171875, 17348.140625, 17207.51953125, 16806.796875, 15849.6748046875, 14464.3232421875, 31622.046875, 43314.7890625, 47280.5546875, 28359.3125, 31350.71484375, 31516.923828125, 27858.23046875, 32444.2421875, 31003.935546875, 26729.42578125, 25102.103515625, 26063.95703125, 42800.08203125, 33387.08984375, 22761.466796875, 21774.205078125, 21357.58984375, 14207.0986328125, 12922.5078125, 12806.5029296875, 12504.392578125, 9558.275390625, 9562.8125, 8757.30859375, 8255.5771484375, 7220.3408203125, 7215.158203125, 7206.8076171875, 7082.39208984375, 6851.70849609375, 6725.66650390625, 6609.8447265625, 6470.52197265625, 6189.17529296875, 6032.74462890625, 5942.42626953125, 5937.05029296875, 5824.392578125, 5638.51171875, 5278.6103515625, 5068.01611328125, 5069.69775390625, 30241.365234375, 14718.46484375, 22623.7578125, 15852.6171875, 13578.3583984375, 10289.5068359375, 10566.94921875, 8441.0869140625, 6369.34326171875, 47604.3203125, 33718.328125, 29991.33984375, 29934.193359375, 27572.294921875, 18436.04296875, 17661.5859375, 13291.3310546875, 12912.986328125, 12053.86328125, 11403.462890625, 11333.2470703125, 10517.5048828125, 8288.9052734375, 7666.2421875, 7437.3359375, 6729.53271484375, 6610.10302734375, 6435.1337890625, 6269.87890625, 6215.34326171875, 6164.630859375, 5963.06591796875, 5554.0068359375, 5544.7236328125, 5399.90185546875, 5340.494140625, 5243.0888671875, 5236.8203125, 4889.05322265625, 7857.9111328125, 11824.4345703125, 17623.322265625, 19307.8203125, 11672.625, 9661.978515625, 15022.51953125, 8031.36474609375, 15813.3916015625, 8511.0, 7372.8134765625, 145158.859375, 105350.609375, 42410.7734375, 33426.02734375, 32714.85546875, 31931.83984375, 26257.3515625, 25031.310546875, 19730.603515625, 18376.169921875, 16745.390625, 13892.39453125, 13166.009765625, 12783.302734375, 11313.322265625, 11286.349609375, 7887.55322265625, 7857.35595703125, 7501.92333984375, 7462.13623046875, 7290.70654296875, 7101.40283203125, 7087.6162109375, 6641.12841796875, 6135.9306640625, 6041.40087890625, 5894.43408203125, 5874.36962890625, 5468.02099609375, 5365.5087890625, 21536.3515625, 10810.916015625, 9878.2490234375, 11889.2734375, 10529.5078125, 7074.59130859375, 8189.99365234375, 8125.72216796875, 41926.33984375, 34180.6171875, 31333.345703125, 23335.890625, 22071.46875, 21751.71484375, 16311.349609375, 15803.8759765625, 12187.662109375, 12072.337890625, 9518.962890625, 8981.1298828125, 8734.2265625, 8472.337890625, 8467.8310546875, 8246.5126953125, 7885.185546875, 6955.7197265625, 6681.32666015625, 6116.53466796875, 6107.2060546875, 5732.50439453125, 5615.1357421875, 5555.1669921875, 5466.99169921875, 5443.5263671875, 5420.04833984375, 5290.60107421875, 5249.59375, 5196.572265625, 42055.87890625, 19354.712890625, 14443.3935546875, 17498.826171875, 33446.37109375, 11852.9892578125, 31351.25, 6928.90283203125, 13127.689453125, 8065.7548828125, 10676.3935546875, 8061.94482421875, 7612.71826171875, 7499.984375, 9175.9970703125, 44260.9453125, 42905.7109375, 37094.359375, 22301.56640625, 20252.083984375, 14725.5556640625, 14655.1796875, 14578.8740234375, 14261.5283203125, 14032.9375, 12950.1748046875, 12619.2861328125, 11602.388671875, 11171.2666015625, 11016.0732421875, 10611.79296875, 9758.5068359375, 9693.3525390625, 8812.4140625, 8681.7109375, 8380.1396484375, 8175.04931640625, 8015.15283203125, 7671.3544921875, 7488.48876953125, 6872.3095703125, 6841.33154296875, 6720.29150390625, 6515.2890625, 6303.92724609375, 23097.9921875, 19741.833984375, 15192.87109375, 30806.765625, 11203.36328125, 10895.298828125, 9531.2080078125, 8611.31640625, 32918.73828125, 21296.142578125, 18908.8359375, 17744.13671875, 15007.939453125, 13261.75, 13229.62109375, 13230.9951171875, 12821.876953125, 12437.8505859375, 11717.6357421875, 10961.4892578125, 10460.55859375, 10455.36328125, 9342.158203125, 8721.6884765625, 8622.900390625, 8207.2421875, 7363.33642578125, 6902.3955078125, 6762.826171875, 6681.384765625, 6584.79052734375, 6533.59716796875, 6366.3515625, 6239.4912109375, 6022.96923828125, 5857.59326171875, 5757.8310546875, 5749.07275390625, 10061.1455078125, 10002.5693359375, 44901.7421875, 37501.26953125, 30967.001953125, 25742.392578125, 18105.654296875, 14165.0205078125, 13351.4169921875, 11550.02734375, 10521.115234375, 10302.98828125, 9512.0009765625, 9301.7197265625, 8974.2822265625, 8874.5302734375, 8528.76171875, 8004.2255859375, 7563.48876953125, 7278.1357421875, 7207.650390625, 6835.02294921875, 6672.76806640625, 6466.61279296875, 6443.55419921875, 6329.73974609375, 5937.66748046875, 5882.53857421875, 5878.0927734375, 5838.59521484375, 5817.0888671875, 5710.74951171875, 13425.5849609375, 31908.791015625, 13227.005859375, 10795.6494140625, 8261.955078125, 8739.0400390625, 8013.5419921875, 42192.265625, 23940.763671875, 23667.123046875, 23141.3984375, 22750.169921875, 22642.505859375, 20928.673828125, 20770.720703125, 20541.60546875, 19197.6640625, 16492.453125, 16010.40234375, 15728.5078125, 14866.9345703125, 13738.2958984375, 13613.001953125, 13241.7861328125, 13118.814453125, 12956.7861328125, 12813.3662109375, 12573.33203125, 11794.181640625, 11763.6123046875, 10981.318359375, 10803.8916015625, 10589.0654296875, 10546.7607421875, 10141.3115234375, 9738.2099609375, 9520.765625, 82063.484375, 24721.798828125, 34613.61328125, 13732.20703125, 14631.8955078125, 12535.71484375, 56987.62890625, 48456.1015625, 28524.658203125, 26098.501953125, 24094.71875, 20916.501953125, 17800.61328125, 16428.88671875, 15049.951171875, 13727.53125, 12434.6171875, 12455.46484375, 12226.0390625, 11842.091796875, 11248.9365234375, 10857.3291015625, 10683.4794921875, 10563.9072265625, 9836.8515625, 9612.5029296875, 9557.9931640625, 9490.4228515625, 9468.216796875, 8625.111328125, 8612.3564453125, 8510.412109375, 8422.34375, 8202.7666015625, 7447.47802734375, 7171.640625, 20674.712890625, 20852.0390625, 22258.26171875, 38466.22265625, 31649.42578125, 33813.5546875, 20370.287109375, 15293.59375, 26859.716796875, 13340.4599609375, 13886.7568359375, 11243.2734375, 12159.259765625], \"Term\": [\"medium\", \"github\", \"show\", \"google\", \"youtube\", \"data\", \"http\", \"ask\", \"app\", \"video\", \"nytimes\", \"facebook\", \"learning\", \"twitter\", \"web\", \"startup\", \"time\", \"year\", \"company\", \"first\", \"tech\", \"open\", \"service\", \"world\", \"apple\", \"system\", \"game\", \"like\", \"quot\", \"software\", \"youtube\", \"video\", \"game\", \"model\", \"news\", \"car\", \"youtu\", \"hacker\", \"tesla\", \"wired\", \"health\", \"control\", \"step\", \"robot\", \"behind\", \"phys\", \"coming\", \"raise\", \"photo\", \"child\", \"word\", \"delivery\", \"fund\", \"electric\", \"reality\", \"theregister\", \"flight\", \"spotify\", \"giant\", \"production\", \"pattern\", \"challenge\", \"space\", \"bank\", \"new\", \"china\", \"launch\", \"phone\", \"buy\", \"research\", \"remote\", \"tip\", \"call\", \"engine\", \"marketing\", \"rust\", \"nasa\", \"turn\", \"watch\", \"paper\", \"lead\", \"message\", \"economist\", \"mozilla\", \"understanding\", \"firefox\", \"class\", \"lost\", \"effective\", \"voice\", \"beta\", \"five\", \"dead\", \"infrastructure\", \"brand\", \"market\", \"alternative\", \"customer\", \"writing\", \"deal\", \"find\", \"content\", \"move\", \"new\", \"build\", \"design\", \"api\", \"image\", \"interview\", \"process\", \"browser\", \"bitcoin\", \"worker\", \"fix\", \"pro\", \"core\", \"earth\", \"learned\", \"lesson\", \"engadget\", \"latest\", \"air\", \"energy\", \"us\", \"mac\", \"investor\", \"mode\", \"impact\", \"complete\", \"apache\", \"trend\", \"laptop\", \"reach\", \"graphic\", \"part\", \"building\", \"javascript\", \"practice\", \"team\", \"product\", \"engineer\", \"best\", \"improve\", \"using\", \"google\", \"network\", \"guide\", \"search\", \"reddit\", \"key\", \"city\", \"black\", \"modern\", \"npr\", \"neural\", \"risk\", \"domain\", \"instagram\", \"secure\", \"star\", \"method\", \"culture\", \"recognition\", \"analytics\", \"sign\", \"collection\", \"block\", \"max\", \"custom\", \"enterprise\", \"court\", \"legal\", \"facial\", \"seek\", \"service\", \"user\", \"access\", \"site\", \"reason\", \"new\", \"using\", \"medium\", \"data\", \"nytimes\", \"pdf\", \"theverge\", \"cloud\", \"uber\", \"privacy\", \"power\", \"nature\", \"scientist\", \"global\", \"password\", \"quantum\", \"ceo\", \"face\", \"government\", \"trump\", \"silicon\", \"faster\", \"computing\", \"valley\", \"family\", \"fastcompany\", \"git\", \"storage\", \"response\", \"drone\", \"musk\", \"force\", \"social\", \"big\", \"public\", \"next\", \"ask\", \"like\", \"quot\", \"work\", \"would\", \"people\", \"know\", \"want\", \"need\", \"good\", \"thing\", \"think\", \"working\", \"experience\", \"looking\", \"idea\", \"also\", \"question\", \"much\", \"many\", \"see\", \"start\", \"even\", \"something\", \"look\", \"every\", \"great\", \"lot\", \"really\", \"etc\", \"help\", \"one\", \"get\", \"could\", \"use\", \"make\", \"job\", \"time\", \"company\", \"project\", \"way\", \"year\", \"twitter\", \"theguardian\", \"top\", \"internet\", \"wsj\", \"washingtonpost\", \"stop\", \"attack\", \"record\", \"memory\", \"tax\", \"early\", \"firm\", \"join\", \"must\", \"go\", \"ipo\", \"sql\", \"action\", \"took\", \"virtual\", \"claim\", \"error\", \"box\", \"investment\", \"income\", \"meet\", \"road\", \"explained\", \"medical\", \"say\", \"cost\", \"may\", \"case\", \"server\", \"program\", \"money\", \"made\", \"benefit\", \"learning\", \"bloomberg\", \"machine\", \"language\", \"programming\", \"deep\", \"home\", \"school\", \"student\", \"analysis\", \"talk\", \"american\", \"old\", \"researcher\", \"master\", \"screen\", \"house\", \"often\", \"iphone\", \"interface\", \"cut\", \"white\", \"university\", \"threat\", \"qz\", \"functional\", \"rail\", \"ruby\", \"speech\", \"license\", \"programmer\", \"high\", \"learn\", \"python\", \"pay\", \"become\", \"problem\", \"approach\", \"job\", \"new\", \"using\", \"github\", \"show\", \"open\", \"amazon\", \"microsoft\", \"source\", \"arstechnica\", \"linux\", \"window\", \"library\", \"reuters\", \"update\", \"released\", \"device\", \"cnbc\", \"kid\", \"ad\", \"tutorial\", \"introduction\", \"driver\", \"open-source\", \"board\", \"package\", \"component\", \"generation\", \"azure\", \"decision\", \"light\", \"kernel\", \"fire\", \"project\", \"list\", \"python\", \"code\", \"tool\", \"based\", \"using\", \"new\", \"world\", \"bbc\", \"life\", \"computer\", \"science\", \"human\", \"digital\", \"database\", \"secret\", \"price\", \"theory\", \"businessinsider\", \"sell\", \"hit\", \"save\", \"score\", \"scientificamerican\", \"per\", \"san\", \"finding\", \"hand\", \"crash\", \"francisco\", \"player\", \"seo\", \"kill\", \"samsung\", \"helped\", \"missing\", \"meeting\", \"first\", \"technology\", \"real\", \"techcrunch\", \"year\", \"two\", \"time\", \"expert\", \"back\", \"music\", \"right\", \"around\", \"last\", \"week\", \"new\", \"startup\", \"tech\", \"business\", \"live\", \"report\", \"blockchain\", \"story\", \"industry\", \"cnn\", \"engineering\", \"forbes\", \"algorithm\", \"employee\", \"bill\", \"founder\", \"climate\", \"event\", \"linkedin\", \"note\", \"saas\", \"inside\", \"economy\", \"three\", \"worth\", \"matter\", \"distributed\", \"taking\", \"rise\", \"node.js\", \"topic\", \"platform\", \"change\", \"plan\", \"company\", \"management\", \"never\", \"community\", \"run\", \"wikipedia\", \"blogspot\", \"study\", \"history\", \"performance\", \"woman\", \"war\", \"brain\", \"law\", \"food\", \"art\", \"india\", \"map\", \"stack\", \"effect\", \"across\", \"ieee\", \"speed\", \"edge\", \"cancer\", \"japan\", \"moon\", \"productivity\", \"cell\", \"command\", \"keyboard\", \"automated\", \"true\", \"table\", \"editor\", \"line\", \"support\", \"facebook\", \"apple\", \"security\", \"test\", \"aws\", \"release\", \"sale\", \"intelligence\", \"death\", \"man\", \"california\", \"artificial\", \"million\", \"age\", \"object\", \"request\", \"visual\", \"water\", \"series\", \"hacking\", \"netflix\", \"archive\", \"police\", \"win\", \"loss\", \"log\", \"studio\", \"query\", \"latimes\", \"php\", \"fast\", \"system\", \"making\", \"getting\", \"account\", \"day\", \"new\", \"free\", \"email\", \"book\", \"review\", \"file\", \"credit\", \"still\", \"state\", \"react\", \"anyone\", \"post\", \"number\", \"amp\", \"wordpress\", \"blog\", \"type\", \"full\", \"text\", \"item\", \"link\", \"theatlantic\", \"chinese\", \"information\", \"href=\", \"write\", \"nofollow\", \"rel=\", \"card\", \"america\", \"rule\", \"http\", \"online\", \"code\", \"page\", \"system\", \"website\", \"app\", \"web\", \"development\", \"application\", \"apps\", \"android\", \"mobile\", \"framework\", \"store\", \"testing\", \"client\", \"mit\", \"java\", \"io\", \"intel\", \"smart\", \"docker\", \"play\", \"native\", \"common\", \"tracking\", \"coding\", \"fake\", \"office\", \"strategy\", \"cs\", \"increase\", \"environment\", \"gizmodo\", \"technologyreview\", \"dev\", \"simple\", \"create\", \"software\", \"tool\", \"developer\", \"future\", \"feature\", \"using\", \"end\", \"better\", \"built\", \"new\"], \"Total\": [157479.0, 145160.0, 105351.0, 93827.0, 76289.0, 74157.0, 91403.0, 100482.0, 56988.0, 50143.0, 48573.0, 44903.0, 47605.0, 42801.0, 48457.0, 44262.0, 63796.0, 59511.0, 61811.0, 45923.0, 42907.0, 42412.0, 42331.0, 41927.0, 37502.0, 46541.0, 39330.0, 70253.0, 69889.0, 52383.0, 76289.8984375, 50143.86328125, 39330.3125, 23830.69921875, 22066.58984375, 18682.169921875, 18128.375, 17091.212890625, 16995.0234375, 16996.53515625, 15020.3544921875, 12720.40625, 12105.216796875, 11802.33984375, 10598.9375, 9255.705078125, 8814.6259765625, 8421.509765625, 8189.658203125, 8141.79248046875, 7941.29248046875, 7373.06005859375, 7045.99267578125, 7041.1005859375, 6788.6787109375, 6591.833984375, 6591.72705078125, 6558.17333984375, 6541.095703125, 6277.32080078125, 6282.00439453125, 10037.7509765625, 20419.845703125, 8605.017578125, 117331.2265625, 29668.544921875, 20760.98046875, 19753.234375, 18413.421875, 17003.705078125, 15299.427734375, 15042.513671875, 13491.9208984375, 12381.5908203125, 12202.328125, 11252.1318359375, 10743.45703125, 10188.125, 9749.9853515625, 9411.8134765625, 9417.66796875, 9290.138671875, 8351.8759765625, 7975.25830078125, 7675.3212890625, 7393.0849609375, 7114.33056640625, 7012.2080078125, 6855.953125, 6745.53759765625, 6691.50634765625, 6229.9130859375, 5970.400390625, 5929.14208984375, 5892.87060546875, 19308.166015625, 11871.9404296875, 16849.23046875, 13053.6005859375, 12076.8544921875, 34063.40234375, 14457.1318359375, 10837.3740234375, 117331.2265625, 35775.75, 35405.83984375, 19164.865234375, 18970.705078125, 17995.2734375, 16764.3125, 14648.8701171875, 14078.7783203125, 10467.3837890625, 9665.7705078125, 9189.3759765625, 8689.578125, 8586.2109375, 8228.671875, 8121.96533203125, 7885.505859375, 7759.10693359375, 7717.31103515625, 7590.24169921875, 7441.59228515625, 7301.04052734375, 6970.15966796875, 6844.890625, 6626.02392578125, 6429.7041015625, 6384.037109375, 6237.98828125, 5963.251953125, 5814.341796875, 5745.58544921875, 22646.32421875, 28874.89453125, 26137.279296875, 10122.68359375, 26911.94921875, 34429.27734375, 19945.955078125, 41444.2109375, 11058.1572265625, 64529.8671875, 93827.671875, 30851.076171875, 22080.421875, 21064.083984375, 18262.216796875, 15590.333984375, 15274.13671875, 11617.69140625, 11265.009765625, 10864.56640625, 10791.8603515625, 9787.1201171875, 9722.796875, 9358.7470703125, 9318.6435546875, 8610.1220703125, 8502.64453125, 8134.59033203125, 7940.15869140625, 7919.99951171875, 7699.18359375, 7449.88037109375, 7062.01220703125, 6994.41015625, 6361.798828125, 6168.42724609375, 6150.6875, 6040.712890625, 5817.220703125, 5765.35986328125, 42331.0, 37092.96875, 12456.525390625, 24135.423828125, 12519.1591796875, 117331.2265625, 64529.8671875, 157479.984375, 74157.1171875, 48573.78515625, 33223.33984375, 24267.08984375, 21505.955078125, 15672.533203125, 15430.767578125, 14080.1376953125, 14040.8251953125, 13854.064453125, 11731.466796875, 10842.2861328125, 10384.7763671875, 10176.947265625, 9952.8447265625, 8618.0029296875, 8496.052734375, 7563.994140625, 7449.474609375, 7350.3603515625, 7016.59716796875, 6998.357421875, 6984.86279296875, 6823.17822265625, 6825.87451171875, 6741.13037109375, 6415.8642578125, 5922.53173828125, 5661.4638671875, 23974.919921875, 21922.3984375, 13288.25390625, 17802.58203125, 100482.7734375, 70253.8671875, 69889.4765625, 57949.47265625, 54330.89453125, 47991.55078125, 40713.140625, 40353.03125, 38891.05078125, 34943.0, 29648.1953125, 26878.005859375, 24791.794921875, 23366.046875, 22758.375, 22288.228515625, 22163.56640625, 21694.671875, 20349.361328125, 20287.11328125, 20266.171875, 19391.55859375, 18508.025390625, 18095.044921875, 17621.470703125, 17349.439453125, 17208.818359375, 16808.095703125, 15850.974609375, 14465.623046875, 35129.6796875, 50584.125, 63912.59765625, 42077.65625, 52501.21875, 54658.76953125, 43672.828125, 63796.703125, 61811.9140625, 48266.98828125, 41562.98828125, 59511.5390625, 42801.37109375, 33388.37890625, 22762.75390625, 21775.4921875, 21358.876953125, 14208.38671875, 12923.7958984375, 12807.791015625, 12505.6806640625, 9559.5634765625, 9564.1005859375, 8758.5966796875, 8256.865234375, 7221.6298828125, 7216.447265625, 7208.0966796875, 7083.68115234375, 6852.99755859375, 6726.95556640625, 6611.1337890625, 6471.81103515625, 6190.46435546875, 6034.03369140625, 5943.71533203125, 5938.33935546875, 5825.681640625, 5639.80078125, 5279.8994140625, 5069.30517578125, 5070.98681640625, 33357.515625, 16185.85546875, 28675.568359375, 18992.359375, 19634.935546875, 14282.4912109375, 19837.7890625, 19895.111328125, 8396.7392578125, 47605.609375, 33719.6171875, 29992.630859375, 29935.484375, 27573.5859375, 18437.333984375, 17662.876953125, 13292.623046875, 12914.2783203125, 12055.1552734375, 11404.7548828125, 11334.5390625, 10518.796875, 8290.197265625, 7667.53466796875, 7438.62841796875, 6730.8251953125, 6611.3955078125, 6436.42626953125, 6271.17138671875, 6216.6357421875, 6165.92333984375, 5964.3583984375, 5555.29931640625, 5546.01611328125, 5401.1943359375, 5341.78662109375, 5244.38134765625, 5238.11279296875, 4890.345703125, 8402.890625, 14008.7158203125, 23137.994140625, 29187.271484375, 17196.8046875, 13876.3544921875, 30633.078125, 10710.3974609375, 43672.828125, 117331.2265625, 64529.8671875, 145160.15625, 105351.9140625, 42412.0703125, 33427.32421875, 32716.150390625, 31933.134765625, 26258.646484375, 25032.60546875, 19731.8984375, 18377.46484375, 16746.685546875, 13893.6904296875, 13167.3056640625, 12784.5986328125, 11314.6181640625, 11287.6455078125, 7888.85009765625, 7858.65283203125, 7503.22021484375, 7463.43310546875, 7292.00341796875, 7102.69970703125, 7088.9130859375, 6642.42529296875, 6137.2275390625, 6042.69775390625, 5895.73095703125, 5875.66650390625, 5469.31787109375, 5366.8056640625, 48266.98828125, 17598.626953125, 29187.271484375, 52501.4765625, 42180.1328125, 16707.572265625, 64529.8671875, 117331.2265625, 41927.6328125, 34181.91015625, 31334.63671875, 23337.181640625, 22072.759765625, 21753.005859375, 16312.6416015625, 15805.16796875, 12188.9541015625, 12073.6298828125, 9520.2548828125, 8982.421875, 8735.5185546875, 8473.6298828125, 8469.123046875, 8247.8046875, 7886.478515625, 6957.0126953125, 6682.61962890625, 6117.82763671875, 6108.4990234375, 5733.79736328125, 5616.4287109375, 5556.4599609375, 5468.28466796875, 5444.8193359375, 5421.34130859375, 5291.89404296875, 5250.88671875, 5197.865234375, 45923.8046875, 21682.90234375, 16148.34765625, 23500.759765625, 59511.5390625, 15994.5126953125, 63796.703125, 7666.548828125, 21005.666015625, 10973.0126953125, 20050.439453125, 14106.9697265625, 13682.4833984375, 13625.54296875, 117331.2265625, 44262.2421875, 42907.0078125, 37095.65625, 22302.859375, 20253.376953125, 14726.849609375, 14656.4736328125, 14580.16796875, 14262.822265625, 14034.2314453125, 12951.46875, 12620.580078125, 11603.6826171875, 11172.560546875, 11017.3671875, 10613.0869140625, 9759.80078125, 9694.646484375, 8813.7080078125, 8683.0048828125, 8381.43359375, 8176.34375, 8016.447265625, 7672.64892578125, 7489.783203125, 6873.60400390625, 6842.6259765625, 6721.5859375, 6516.58349609375, 6305.2216796875, 29962.52734375, 25044.98046875, 18708.552734375, 61811.9140625, 15368.9638671875, 14993.0009765625, 14460.0947265625, 14296.0947265625, 32920.0234375, 21297.42578125, 18910.119140625, 17745.419921875, 15009.2236328125, 13263.0341796875, 13230.9052734375, 13232.279296875, 12823.1611328125, 12439.134765625, 11718.919921875, 10962.7734375, 10461.8427734375, 10456.6474609375, 9343.4423828125, 8722.97265625, 8624.1845703125, 8208.5263671875, 7364.62109375, 6903.68017578125, 6764.11083984375, 6682.66943359375, 6586.0751953125, 6534.8818359375, 6367.63623046875, 6240.77587890625, 6024.25390625, 5858.8779296875, 5759.11572265625, 5750.357421875, 11703.6865234375, 21267.66015625, 44903.03125, 37502.55859375, 30968.287109375, 25743.677734375, 18106.939453125, 14166.3076171875, 13352.7041015625, 11551.314453125, 10522.40234375, 10304.275390625, 9513.2880859375, 9303.0068359375, 8975.5693359375, 8875.8173828125, 8530.048828125, 8005.51220703125, 7564.775390625, 7279.42236328125, 7208.93701171875, 6836.3095703125, 6674.0546875, 6467.8994140625, 6444.8408203125, 6331.0263671875, 5938.9541015625, 5883.8251953125, 5879.37939453125, 5839.8818359375, 5818.37548828125, 5712.0361328125, 14662.3359375, 46541.8828125, 19661.94140625, 19833.984375, 17397.767578125, 30987.146484375, 117331.2265625, 42193.5625, 23942.056640625, 23668.416015625, 23142.69140625, 22751.462890625, 22643.798828125, 20929.966796875, 20772.013671875, 20542.8984375, 19198.95703125, 16493.74609375, 16011.697265625, 15729.802734375, 14868.2294921875, 13739.5908203125, 13614.296875, 13243.0810546875, 13120.109375, 12958.0810546875, 12814.6611328125, 12574.626953125, 11795.4765625, 11764.9072265625, 10982.61328125, 10805.1865234375, 10590.3603515625, 10548.0556640625, 10142.6064453125, 9739.5048828125, 9522.060546875, 91403.3828125, 29186.080078125, 52501.4765625, 17136.99609375, 46541.8828125, 28698.283203125, 56988.91796875, 48457.390625, 28525.9453125, 26099.7890625, 24096.005859375, 20917.7890625, 17801.900390625, 16430.173828125, 15051.2392578125, 13728.8193359375, 12435.9052734375, 12456.7529296875, 12227.3271484375, 11843.3798828125, 11250.224609375, 10858.6171875, 10684.767578125, 10565.1953125, 9838.1396484375, 9613.791015625, 9559.28125, 9491.7109375, 9469.5048828125, 8626.3994140625, 8613.64453125, 8511.7001953125, 8423.6318359375, 8204.0546875, 7448.76611328125, 7172.9287109375, 21297.26953125, 22201.7109375, 24243.451171875, 52383.25390625, 42180.1328125, 45889.72265625, 24704.216796875, 18551.44140625, 64529.8671875, 19749.40625, 27283.689453125, 14941.8818359375, 117331.2265625], \"loglift\": [30.0, 29.0, 28.0, 27.0, 26.0, 25.0, 24.0, 23.0, 22.0, 21.0, 20.0, 19.0, 18.0, 17.0, 16.0, 15.0, 14.0, 13.0, 12.0, 11.0, 10.0, 9.0, 8.0, 7.0, 6.0, 5.0, 4.0, 3.0, 2.0, 1.0, 2.889699935913086, 2.889699935913086, 2.889699935913086, 2.889699935913086, 2.889699935913086, 2.889699935913086, 2.889699935913086, 2.889699935913086, 2.889699935913086, 2.889699935913086, 2.8896000385284424, 2.8896000385284424, 2.8896000385284424, 2.8896000385284424, 2.8896000385284424, 2.8896000385284424, 2.8896000385284424, 2.8896000385284424, 2.8896000385284424, 2.8896000385284424, 2.8896000385284424, 2.8896000385284424, 2.8896000385284424, 2.8896000385284424, 2.8894999027252197, 2.8894999027252197, 2.8894999027252197, 2.8894999027252197, 2.8894999027252197, 2.8894999027252197, 2.8894999027252197, 2.771199941635132, 2.579699993133545, 2.734600067138672, 0.8535000085830688, 2.968600034713745, 2.968600034713745, 2.968600034713745, 2.968600034713745, 2.968600034713745, 2.968600034713745, 2.968600034713745, 2.9684998989105225, 2.9684998989105225, 2.9684998989105225, 2.9684998989105225, 2.9684998989105225, 2.9684998989105225, 2.9684998989105225, 2.9684998989105225, 2.9684998989105225, 2.9684998989105225, 2.9684998989105225, 2.9684998989105225, 2.9684998989105225, 2.9684998989105225, 2.9684998989105225, 2.9684998989105225, 2.968400001525879, 2.968400001525879, 2.968400001525879, 2.968400001525879, 2.968400001525879, 2.968400001525879, 2.968400001525879, 2.896399974822998, 2.847399950027466, 2.719399929046631, 2.777100086212158, 2.7197000980377197, 2.0536999702453613, 2.4339001178741455, 2.586400032043457, 0.26030001044273376, 2.973900079727173, 2.973900079727173, 2.973900079727173, 2.973900079727173, 2.973900079727173, 2.973900079727173, 2.973900079727173, 2.973900079727173, 2.97379994392395, 2.97379994392395, 2.97379994392395, 2.97379994392395, 2.97379994392395, 2.97379994392395, 2.97379994392395, 2.97379994392395, 2.97379994392395, 2.97379994392395, 2.97379994392395, 2.97379994392395, 2.97379994392395, 2.97379994392395, 2.97379994392395, 2.97379994392395, 2.97379994392395, 2.97379994392395, 2.97379994392395, 2.9737000465393066, 2.9737000465393066, 2.9737000465393066, 2.864000082015991, 2.6166999340057373, 2.6350998878479004, 2.819700002670288, 2.468100070953369, 2.3041000366210938, 2.384500026702881, 1.913599967956543, 2.640500068664551, 0.8051000237464905, 3.0058000087738037, 3.00570011138916, 3.00570011138916, 3.00570011138916, 3.00570011138916, 3.00570011138916, 3.00570011138916, 3.00570011138916, 3.00570011138916, 3.00570011138916, 3.00570011138916, 3.00570011138916, 3.00570011138916, 3.0055999755859375, 3.0055999755859375, 3.0055999755859375, 3.0055999755859375, 3.0055999755859375, 3.0055999755859375, 3.0055999755859375, 3.0055999755859375, 3.0055999755859375, 3.0055999755859375, 3.0055999755859375, 3.0055999755859375, 3.0055999755859375, 3.0055999755859375, 3.0055999755859375, 3.0055999755859375, 3.0055999755859375, 2.8276000022888184, 2.7119998931884766, 2.572000026702881, 2.1510000228881836, 2.4428000450134277, 0.33379998803138733, 0.8604000210762024, 2.8935999870300293, 2.8935999870300293, 2.8935999870300293, 2.8935999870300293, 2.8935999870300293, 2.8935999870300293, 2.8935999870300293, 2.8935999870300293, 2.8935000896453857, 2.8935000896453857, 2.8935000896453857, 2.8935000896453857, 2.8935000896453857, 2.8935000896453857, 2.8935000896453857, 2.8935000896453857, 2.8935000896453857, 2.8935000896453857, 2.8935000896453857, 2.8935000896453857, 2.8935000896453857, 2.8935000896453857, 2.8935000896453857, 2.8935000896453857, 2.893399953842163, 2.893399953842163, 2.893399953842163, 2.893399953842163, 2.893399953842163, 2.893399953842163, 2.746500015258789, 2.5481998920440674, 2.5555999279022217, 2.3740999698638916, 1.6095999479293823, 1.6095999479293823, 1.6095999479293823, 1.6095999479293823, 1.6095999479293823, 1.6095999479293823, 1.6095999479293823, 1.6095999479293823, 1.6095999479293823, 1.6095999479293823, 1.6095999479293823, 1.6095999479293823, 1.6095999479293823, 1.6095999479293823, 1.6095999479293823, 1.6095999479293823, 1.6095999479293823, 1.6095999479293823, 1.6095999479293823, 1.6095999479293823, 1.6095999479293823, 1.6095999479293823, 1.6095999479293823, 1.6095999479293823, 1.6095999479293823, 1.6095999479293823, 1.6095999479293823, 1.6095999479293823, 1.6095999479293823, 1.6095999479293823, 1.5045000314712524, 1.4544999599456787, 1.3082000017166138, 1.2151000499725342, 1.093999981880188, 1.0591000318527222, 1.159999966621399, 0.9334999918937683, 0.919700026512146, 1.0187000036239624, 1.1053999662399292, 0.7839999794960022, 3.0179998874664307, 3.0179998874664307, 3.0179998874664307, 3.0179998874664307, 3.0179998874664307, 3.0179998874664307, 3.0179998874664307, 3.0179998874664307, 3.0179998874664307, 3.017899990081787, 3.017899990081787, 3.017899990081787, 3.017899990081787, 3.017899990081787, 3.017899990081787, 3.017899990081787, 3.017899990081787, 3.017899990081787, 3.017899990081787, 3.017899990081787, 3.017899990081787, 3.017899990081787, 3.017899990081787, 3.017899990081787, 3.017899990081787, 3.017899990081787, 3.0178000926971436, 3.0178000926971436, 3.0178000926971436, 3.0178000926971436, 2.9200000762939453, 2.9230000972747803, 2.7809998989105225, 2.837399959564209, 2.649199962615967, 2.690200090408325, 2.388200044631958, 2.1607000827789307, 2.7416999340057373, 2.8715999126434326, 2.8715999126434326, 2.8715999126434326, 2.8715999126434326, 2.8715999126434326, 2.8715999126434326, 2.8715999126434326, 2.8715999126434326, 2.8715999126434326, 2.8715999126434326, 2.871500015258789, 2.871500015258789, 2.871500015258789, 2.871500015258789, 2.871500015258789, 2.871500015258789, 2.871500015258789, 2.871500015258789, 2.871500015258789, 2.871500015258789, 2.871500015258789, 2.871500015258789, 2.8714001178741455, 2.8714001178741455, 2.8714001178741455, 2.8714001178741455, 2.8714001178741455, 2.8714001178741455, 2.8714001178741455, 2.8714001178741455, 2.8046000003814697, 2.702199935913086, 2.599400043487549, 2.458400011062622, 2.4842000007629395, 2.509700059890747, 2.15910005569458, 2.5838000774383545, 1.8558000326156616, 0.24799999594688416, 0.7023000121116638, 2.7679998874664307, 2.7679998874664307, 2.767899990081787, 2.767899990081787, 2.767899990081787, 2.767899990081787, 2.767899990081787, 2.767899990081787, 2.767899990081787, 2.767899990081787, 2.767899990081787, 2.767899990081787, 2.767899990081787, 2.767899990081787, 2.767899990081787, 2.767899990081787, 2.7678000926971436, 2.7678000926971436, 2.7678000926971436, 2.7678000926971436, 2.7678000926971436, 2.7678000926971436, 2.7678000926971436, 2.7678000926971436, 2.7678000926971436, 2.7678000926971436, 2.7678000926971436, 2.7678000926971436, 2.767699956893921, 2.767699956893921, 1.9609999656677246, 2.2806999683380127, 1.6845999956130981, 1.2827999591827393, 1.3802000284194946, 1.9085999727249146, 0.7038000226020813, 0.09799999743700027, 2.7634999752044678, 2.7634999752044678, 2.7634999752044678, 2.7634999752044678, 2.7634999752044678, 2.7634999752044678, 2.7634999752044678, 2.7634999752044678, 2.7634999752044678, 2.7634999752044678, 2.763400077819824, 2.763400077819824, 2.763400077819824, 2.763400077819824, 2.763400077819824, 2.763400077819824, 2.763400077819824, 2.763400077819824, 2.763400077819824, 2.763400077819824, 2.763400077819824, 2.7632999420166016, 2.7632999420166016, 2.7632999420166016, 2.7632999420166016, 2.7632999420166016, 2.7632999420166016, 2.7632999420166016, 2.7632999420166016, 2.7632999420166016, 2.675600051879883, 2.6500000953674316, 2.6519999504089355, 2.4686999320983887, 2.187299966812134, 2.463900089263916, 2.053100109100342, 2.662400007247925, 2.2934999465942383, 2.4558000564575195, 2.1333000659942627, 2.2039999961853027, 2.177299976348877, 2.1665000915527344, 0.2152000069618225, 2.7704999446868896, 2.7704999446868896, 2.7704999446868896, 2.770400047302246, 2.770400047302246, 2.770400047302246, 2.770400047302246, 2.770400047302246, 2.770400047302246, 2.770400047302246, 2.770400047302246, 2.770400047302246, 2.770400047302246, 2.770400047302246, 2.770400047302246, 2.770400047302246, 2.770400047302246, 2.770400047302246, 2.7702999114990234, 2.7702999114990234, 2.7702999114990234, 2.7702999114990234, 2.7702999114990234, 2.7702999114990234, 2.7702999114990234, 2.7702999114990234, 2.7702999114990234, 2.7702999114990234, 2.7702999114990234, 2.7702999114990234, 2.5102999210357666, 2.532599925994873, 2.562299966812134, 2.0741000175476074, 2.454400062561035, 2.451200008392334, 2.3536999225616455, 2.2636001110076904, 3.2344000339508057, 3.2344000339508057, 3.2344000339508057, 3.2344000339508057, 3.234299898147583, 3.234299898147583, 3.234299898147583, 3.234299898147583, 3.234299898147583, 3.234299898147583, 3.234299898147583, 3.234299898147583, 3.234299898147583, 3.234299898147583, 3.234299898147583, 3.234299898147583, 3.234299898147583, 3.234299898147583, 3.234299898147583, 3.2342000007629395, 3.2342000007629395, 3.2342000007629395, 3.2342000007629395, 3.2342000007629395, 3.2342000007629395, 3.2342000007629395, 3.2342000007629395, 3.2342000007629395, 3.2342000007629395, 3.2342000007629395, 3.083199977874756, 2.48009991645813, 3.078900098800659, 3.078900098800659, 3.078900098800659, 3.0787999629974365, 3.0787999629974365, 3.0787999629974365, 3.0787999629974365, 3.0787999629974365, 3.0787999629974365, 3.0787999629974365, 3.0787999629974365, 3.0787999629974365, 3.078700065612793, 3.078700065612793, 3.078700065612793, 3.078700065612793, 3.078700065612793, 3.078700065612793, 3.078700065612793, 3.078700065612793, 3.078700065612793, 3.078700065612793, 3.078700065612793, 3.078700065612793, 3.078700065612793, 3.078700065612793, 3.078700065612793, 3.078700065612793, 3.078700065612793, 3.078700065612793, 2.990799903869629, 2.7014000415802, 2.682499885559082, 2.470599889755249, 2.334199905395508, 1.813099980354309, 0.39500001072883606, 2.4848999977111816, 2.4848999977111816, 2.4848999977111816, 2.4848999977111816, 2.4848999977111816, 2.4848999977111816, 2.4848999977111816, 2.4848999977111816, 2.4848999977111816, 2.4848999977111816, 2.4848999977111816, 2.4848999977111816, 2.4848999977111816, 2.4848999977111816, 2.484800100326538, 2.484800100326538, 2.484800100326538, 2.484800100326538, 2.484800100326538, 2.484800100326538, 2.484800100326538, 2.484800100326538, 2.484800100326538, 2.484800100326538, 2.484800100326538, 2.484800100326538, 2.484800100326538, 2.484800100326538, 2.484800100326538, 2.484800100326538, 2.37719988822937, 2.3189001083374023, 2.0683000087738037, 2.263400077819824, 1.3278000354766846, 1.6567000150680542, 2.598400115966797, 2.598400115966797, 2.598400115966797, 2.598400115966797, 2.598400115966797, 2.598400115966797, 2.598400115966797, 2.598299980163574, 2.598299980163574, 2.598299980163574, 2.598299980163574, 2.598299980163574, 2.598299980163574, 2.598299980163574, 2.598299980163574, 2.598299980163574, 2.598299980163574, 2.598299980163574, 2.598299980163574, 2.598299980163574, 2.598299980163574, 2.598299980163574, 2.598299980163574, 2.598299980163574, 2.598299980163574, 2.598299980163574, 2.598299980163574, 2.598299980163574, 2.598299980163574, 2.5982000827789307, 2.5687999725341797, 2.5357000827789307, 2.513000011444092, 2.289599895477295, 2.311199903488159, 2.2929999828338623, 2.4054999351501465, 2.4052999019622803, 1.7218999862670898, 2.2060999870300293, 1.9230999946594238, 2.313999891281128, 0.33149999380111694], \"logprob\": [30.0, 29.0, 28.0, 27.0, 26.0, 25.0, 24.0, 23.0, 22.0, 21.0, 20.0, 19.0, 18.0, 17.0, 16.0, 15.0, 14.0, 13.0, 12.0, 11.0, 10.0, 9.0, 8.0, 7.0, 6.0, 5.0, 4.0, 3.0, 2.0, 1.0, -2.550299882888794, -2.969899892807007, -3.2128000259399414, -3.713900089263916, -3.790800094604492, -3.9572999477386475, -3.9874000549316406, -4.046299934387207, -4.0518999099731445, -4.0518999099731445, -4.17549991607666, -4.341700077056885, -4.391300201416016, -4.416600227355957, -4.524199962615967, -4.6596999168396, -4.708499908447266, -4.754199981689453, -4.782100200653076, -4.787899971008301, -4.812900066375732, -4.8871002197265625, -4.932499885559082, -4.933199882507324, -4.969699859619141, -4.999199867248535, -4.999199867248535, -5.004300117492676, -5.006899833679199, -5.048099994659424, -5.047299861907959, -4.697000026702881, -4.178400039672852, -4.887599945068359, -4.156099796295166, -3.415800094604492, -3.772900104522705, -3.8225998878479004, -3.892899990081787, -3.9725000858306885, -4.078199863433838, -4.095099925994873, -4.20389986038208, -4.28980016708374, -4.3043999671936035, -4.38539981842041, -4.431700229644775, -4.484799861907959, -4.528800010681152, -4.5640997886657715, -4.563399791717529, -4.577099800109863, -4.683599948883057, -4.729700088500977, -4.76800012588501, -4.805500030517578, -4.843999862670898, -4.858399868011475, -4.88100004196167, -4.897200107574463, -4.905200004577637, -4.9766998291015625, -5.0192999839782715, -5.026199817657471, -5.032400131225586, -3.91759991645813, -4.452899932861328, -4.230800151824951, -4.428299903869629, -4.563600063323975, -4.192599773406982, -4.669400215148926, -4.805099964141846, -4.749300003051758, -3.223299980163574, -3.2337000370025635, -3.847599983215332, -3.8577001094818115, -3.9105000495910645, -3.9814000129699707, -4.116300106048584, -4.156000137329102, -4.452400207519531, -4.532100200653076, -4.582699775695801, -4.638599872589111, -4.650599956512451, -4.6930999755859375, -4.706200122833252, -4.7357001304626465, -4.7519001960754395, -4.757299900054932, -4.773900032043457, -4.793700218200684, -4.812699794769287, -4.859099864959717, -4.877200126647949, -4.909800052642822, -4.939799785614014, -4.947000026702881, -4.970099925994873, -5.015200138092041, -5.040500164031982, -5.0524001121521, -3.7904999256134033, -3.7948999404907227, -3.8761000633239746, -4.639999866485596, -4.013800144195557, -3.93149995803833, -4.396999835968018, -4.136600017547607, -4.730899810791016, -4.802299976348877, -2.227299928665161, -3.339600086212158, -3.674099922180176, -3.7211999893188477, -3.864000082015991, -4.022200107574463, -4.042699813842773, -4.316299915313721, -4.3471999168396, -4.383399963378906, -4.390100002288818, -4.487800121307373, -4.4944000244140625, -4.532599925994873, -4.536900043487549, -4.616000175476074, -4.628499984741211, -4.672800064086914, -4.697000026702881, -4.69950008392334, -4.727799892425537, -4.760700225830078, -4.814199924468994, -4.823800086975098, -4.918600082397461, -4.94950008392334, -4.952400207519531, -4.970399856567383, -5.0081000328063965, -5.017099857330322, -3.2014000415802, -3.4491000175476074, -4.680300235748291, -4.439899921417236, -4.804500102996826, -4.6757001876831055, -4.747000217437744, -1.8215999603271484, -2.574700117111206, -2.99780011177063, -3.377700090408325, -3.691800117492676, -3.8125998973846436, -4.1290998458862305, -4.144599914550781, -4.236199855804443, -4.238999843597412, -4.252399921417236, -4.418700218200684, -4.497499942779541, -4.5406999588012695, -4.5609002113342285, -4.583199977874756, -4.727200031280518, -4.741399765014648, -4.857699871063232, -4.872900009155273, -4.886300086975098, -4.932799816131592, -4.935400009155273, -4.937300205230713, -4.960700035095215, -4.960400104522705, -4.972799777984619, -5.022299766540527, -5.10230016708374, -5.14739990234375, -3.8510000705718994, -4.138800144195557, -4.631999969482422, -4.521100044250488, -3.5548999309539795, -3.9128000736236572, -3.9179999828338623, -4.105299949645996, -4.1697998046875, -4.293900012969971, -4.458399772644043, -4.467199802398682, -4.5040998458862305, -4.611199855804443, -4.7754998207092285, -4.873600006103516, -4.954400062561035, -5.013599872589111, -5.039999961853027, -5.0609002113342285, -5.066500186920166, -5.087900161743164, -5.151899814605713, -5.15500020980835, -5.156000137329102, -5.200099945068359, -5.246699810028076, -5.2692999839782715, -5.29580020904541, -5.311399936676025, -5.319499969482422, -5.343100070953369, -5.401700019836426, -5.493199825286865, -4.710999965667725, -4.396399974822998, -4.308800220489502, -4.819900035858154, -4.719600200653076, -4.714399814605713, -4.837699890136719, -4.685400009155273, -4.730800151824951, -4.8790998458862305, -4.94189977645874, -4.904300212860107, -2.9999001026153564, -3.248300075531006, -3.6314001083374023, -3.6756999492645264, -3.694999933242798, -4.102700233459473, -4.197500228881836, -4.206500053405762, -4.230400085449219, -4.499000072479248, -4.498600006103516, -4.586599826812744, -4.645599842071533, -4.7795000076293945, -4.780300140380859, -4.781400203704834, -4.798799991607666, -4.831999778747559, -4.850500106811523, -4.8678998947143555, -4.889200210571289, -4.933599948883057, -4.959199905395508, -4.974299907684326, -4.975200176239014, -4.9944000244140625, -5.026800155639648, -5.092800140380859, -5.133500099182129, -5.133200168609619, -3.3471999168395996, -4.067299842834473, -3.637399911880493, -3.9930999279022217, -4.1479997634887695, -4.425300121307373, -4.39870023727417, -4.623300075531006, -4.90500020980835, -3.039900064468384, -3.3847999572753906, -3.502000093460083, -3.5039000511169434, -3.5859999656677246, -3.988600015640259, -4.031499862670898, -4.315700054168701, -4.344600200653076, -4.41349983215332, -4.468900203704834, -4.475100040435791, -4.549799919128418, -4.787899971008301, -4.866000175476074, -4.896299839019775, -4.996399879455566, -5.0142998695373535, -5.041100025177002, -5.0671000480651855, -5.075799942016602, -5.084000110626221, -5.117300033569336, -5.188300132751465, -5.190000057220459, -5.2164998054504395, -5.227499961853027, -5.2459001541137695, -5.247099876403809, -5.315899848937988, -4.841300010681152, -4.432700157165527, -4.033599853515625, -3.9423999786376953, -4.4456000328063965, -4.634699821472168, -4.193299770355225, -4.819499969482422, -4.142000198364258, -4.761499881744385, -4.905099868774414, -2.028700113296509, -2.349299907684326, -3.2590999603271484, -3.4972000122070312, -3.518699884414673, -3.5429000854492188, -3.738600015640259, -3.786400079727173, -4.024400234222412, -4.0954999923706055, -4.188399791717529, -4.375199794769287, -4.428899765014648, -4.458399772644043, -4.580599784851074, -4.583000183105469, -4.941299915313721, -4.945099830627441, -4.991399765014648, -4.996699810028076, -5.019899845123291, -5.046299934387207, -5.0482001304626465, -5.11329984664917, -5.192399978637695, -5.207900047302246, -5.232500076293945, -5.235899925231934, -5.307600021362305, -5.326600074768066, -3.936800003051758, -4.625999927520752, -4.71619987487793, -4.530900001525879, -4.652400016784668, -5.050000190734863, -4.903600215911865, -4.911499977111816, -3.2750000953674316, -3.479300022125244, -3.5662999153137207, -3.8610000610351562, -3.9166998863220215, -3.931299924850464, -4.219099998474121, -4.250699996948242, -4.510499954223633, -4.519999980926514, -4.757699966430664, -4.815800189971924, -4.843699932098389, -4.874199867248535, -4.87470006942749, -4.901199817657471, -4.946000099182129, -5.071400165557861, -5.111599922180176, -5.199999809265137, -5.201499938964844, -5.264800071716309, -5.2855000495910645, -5.296199798583984, -5.31220006942749, -5.316500186920166, -5.320899963378906, -5.34499979019165, -5.352799892425537, -5.36299991607666, -3.2720000743865967, -4.047999858856201, -4.340700149536133, -4.148799896240234, -3.500999927520752, -4.538400173187256, -3.565700054168701, -5.075300216674805, -4.436200141906738, -4.923299789428711, -4.642899990081787, -4.923799991607666, -4.981100082397461, -4.996099948883057, -4.794400215148926, -3.213900089263916, -3.244999885559082, -3.3905999660491943, -3.899399995803833, -3.995800018310547, -4.314499855041504, -4.319200038909912, -4.32450008392334, -4.346499919891357, -4.362599849700928, -4.44290018081665, -4.468800067901611, -4.552800178527832, -4.590700149536133, -4.604700088500977, -4.642099857330322, -4.725900173187256, -4.732600212097168, -4.827899932861328, -4.842800140380859, -4.878200054168701, -4.902900218963623, -4.922699928283691, -4.9664998054504395, -4.990699768066406, -5.076499938964844, -5.081099987030029, -5.098899841308594, -5.129899978637695, -5.162899971008301, -3.864300012588501, -4.021299839019775, -4.283199787139893, -3.5762999057769775, -4.587800025939941, -4.615699768066406, -4.749499797821045, -4.85099983215332, -3.0460000038146973, -3.481600046157837, -3.6005001068115234, -3.6640000343322754, -3.8315000534057617, -3.955199956893921, -3.9576001167297363, -3.9574999809265137, -3.9888999462127686, -4.0192999839782715, -4.078999996185303, -4.145699977874756, -4.192500114440918, -4.192999839782715, -4.305600166320801, -4.374300003051758, -4.385700225830078, -4.435100078582764, -4.543600082397461, -4.6082000732421875, -4.628600120544434, -4.6407999992370605, -4.655300140380859, -4.663099765777588, -4.6890997886657715, -4.709199905395508, -4.744500160217285, -4.77239990234375, -4.7895002365112305, -4.791100025177002, -4.231400012969971, -4.237199783325195, -2.891200065612793, -3.0713000297546387, -3.262700080871582, -3.447499990463257, -3.7994000911712646, -4.044899940490723, -4.104000091552734, -4.248899936676025, -4.342199802398682, -4.3632001876831055, -4.4430999755859375, -4.465400218963623, -4.501299858093262, -4.512400150299072, -4.552199840545654, -4.615699768066406, -4.672299861907959, -4.7108001708984375, -4.7204999923706055, -4.773600101470947, -4.797599792480469, -4.828999996185303, -4.832499980926514, -4.850399971008301, -4.914299964904785, -4.923600196838379, -4.9243998527526855, -4.931099891662598, -4.934800148010254, -4.9532999992370605, -4.098499774932861, -3.2327001094818115, -4.113399982452393, -4.316500186920166, -4.584000110626221, -4.5278000831604, -4.614500045776367, -3.547300100326538, -4.113999843597412, -4.125500202178955, -4.1479997634887695, -4.164999961853027, -4.1697998046875, -4.248499870300293, -4.25600004196167, -4.267099857330322, -4.334799766540527, -4.486700057983398, -4.516300201416016, -4.53410005569458, -4.590400218963623, -4.669400215148926, -4.678599834442139, -4.706200122833252, -4.7154998779296875, -4.728000164031982, -4.739099979400635, -4.757999897003174, -4.822000026702881, -4.8246002197265625, -4.893400192260742, -4.9096999168396, -4.929800033569336, -4.933800220489502, -4.9730000495910645, -5.013500213623047, -5.036099910736084, -2.8821001052856445, -4.081900119781494, -3.745300054550171, -4.6697998046875, -4.606400012969971, -4.761000156402588, -3.1333000659942627, -3.2953999042510986, -3.8252999782562256, -3.9142000675201416, -3.9941000938415527, -4.1356000900268555, -4.296899795532227, -4.377099990844727, -4.464700222015381, -4.556700229644775, -4.655600070953369, -4.653900146484375, -4.672500133514404, -4.704400062561035, -4.755799770355225, -4.791299819946289, -4.807400226593018, -4.818699836730957, -4.889999866485596, -4.913000106811523, -4.918700218200684, -4.92579984664917, -4.928199768066406, -5.021399974822998, -5.022900104522705, -5.034800052642822, -5.045199871063232, -5.071599960327148, -5.1682000160217285, -5.205999851226807, -4.147200107574463, -4.138599872589111, -4.073400020599365, -3.5262999534606934, -3.721400022506714, -3.6552000045776367, -4.1620001792907715, -4.448699951171875, -3.885499954223633, -4.585299968719482, -4.545199871063232, -4.75629997253418, -4.677999973297119]}, \"token.table\": {\"Topic\": [4, 14, 6, 13, 14, 12, 7, 9, 13, 3, 11, 6, 2, 6, 9, 14, 8, 14, 8, 4, 15, 14, 3, 3, 15, 13, 15, 8, 15, 15, 13, 10, 14, 9, 12, 13, 6, 7, 12, 13, 9, 6, 10, 1, 6, 6, 9, 15, 10, 8, 11, 1, 6, 7, 2, 3, 6, 15, 2, 6, 15, 5, 6, 11, 3, 4, 4, 11, 14, 12, 8, 9, 14, 7, 12, 2, 3, 3, 3, 15, 6, 11, 15, 11, 10, 2, 13, 2, 12, 1, 14, 6, 7, 12, 5, 1, 6, 6, 11, 1, 2, 14, 4, 7, 2, 15, 11, 5, 9, 11, 8, 9, 14, 15, 4, 1, 12, 15, 6, 11, 6, 11, 3, 9, 10, 5, 2, 14, 1, 3, 6, 7, 5, 6, 7, 10, 4, 10, 6, 15, 14, 15, 4, 4, 2, 6, 8, 5, 10, 6, 10, 13, 2, 2, 7, 13, 9, 8, 1, 3, 6, 15, 6, 15, 15, 9, 10, 11, 15, 4, 9, 5, 7, 3, 2, 11, 12, 12, 12, 2, 1, 14, 11, 6, 10, 15, 3, 3, 2, 3, 6, 11, 4, 15, 7, 6, 6, 11, 6, 6, 6, 10, 7, 5, 13, 4, 15, 5, 6, 13, 5, 5, 6, 15, 14, 2, 6, 10, 9, 2, 7, 6, 10, 2, 3, 1, 12, 11, 5, 11, 15, 10, 14, 14, 8, 1, 1, 15, 1, 9, 2, 6, 10, 14, 6, 13, 1, 5, 9, 15, 5, 7, 6, 4, 5, 3, 6, 4, 1, 13, 10, 1, 6, 10, 10, 6, 8, 12, 10, 8, 8, 14, 6, 14, 10, 6, 12, 3, 3, 3, 6, 7, 15, 12, 11, 14, 2, 11, 4, 15, 13, 8, 7, 3, 9, 7, 3, 15, 8, 7, 14, 12, 15, 3, 15, 6, 8, 7, 9, 4, 12, 9, 10, 6, 8, 3, 6, 10, 3, 13, 2, 12, 2, 6, 8, 3, 8, 4, 3, 9, 8, 10, 9, 6, 6, 12, 14, 11, 9, 6, 9, 14, 11, 13, 6, 6, 13, 2, 6, 3, 8, 6, 7, 9, 1, 2, 5, 6, 7, 10, 15, 6, 13, 13, 9, 11, 6, 12, 2, 6, 2, 8, 11, 4, 7, 10, 7, 5, 7, 10, 7, 2, 4, 9, 13, 10, 15, 15, 3, 1, 4, 6, 7, 12, 2, 6, 2, 6, 1, 10, 5, 7, 2, 15, 5, 6, 13, 4, 4, 11, 14, 1, 2, 3, 4, 5, 6, 7, 8, 9, 10, 11, 12, 13, 15, 1, 5, 6, 11, 14, 11, 4, 14, 5, 13, 15, 8, 8, 6, 10, 2, 14, 9, 9, 9, 14, 15, 2, 3, 6, 5, 1, 7, 8, 5, 6, 10, 12, 2, 1, 13, 1, 7, 11, 11, 15, 15, 10, 13, 14, 5, 3, 6, 10, 5, 3, 6, 8, 3, 3, 6, 1, 12, 7, 8, 6, 8, 8, 6, 9, 5, 14, 8, 9, 5, 13, 6, 6, 8, 8, 1, 3, 14, 6, 10, 1, 6, 4, 10, 11, 4, 7, 4, 14, 13, 9, 2, 11, 13, 2, 8, 5, 9, 14, 6, 10, 11, 4, 7, 1, 8, 14, 6, 11, 2, 11, 13, 10, 10, 10, 6, 7, 8, 10, 10, 5, 10, 8, 4, 10, 4, 13, 6, 4, 10, 10, 13, 7, 9, 4, 6, 9, 4, 5, 6, 15, 4, 6, 14, 15, 4, 5, 6, 15, 6, 9, 1, 2, 6, 8, 12, 1, 7, 12, 4, 6, 11, 14, 1, 14, 7, 5, 15, 11, 15, 8, 13, 12, 6, 9, 12, 13, 14, 12, 11, 8, 7, 3, 6, 11, 1, 10, 6, 10, 15, 1, 13, 15, 14, 14, 7, 10, 1, 5, 6, 6, 8, 11, 6, 10, 2, 7, 9, 15, 7, 11, 15, 3, 12, 5, 2, 9, 7, 10, 14, 14, 5, 2, 8, 9, 3, 3, 5, 6, 8, 14, 15, 4, 6, 3, 4, 8, 9, 14, 15, 5, 1, 7, 13, 2, 6, 12, 7, 2, 13, 2, 3, 6, 8, 10, 15, 15, 3, 4, 6, 14, 15, 6, 10, 8, 12, 13, 9, 1, 12, 1, 14, 6, 3, 6, 10, 11, 6, 14, 2, 6, 7, 6, 10, 1, 1], \"Freq\": [0.6480940580368042, 0.3518637716770172, 0.23497267067432404, 0.47488850355148315, 0.2900947034358978, 0.9998884797096252, 0.9998579621315002, 0.9998922348022461, 0.999907910823822, 0.9998301267623901, 0.9998748302459717, 0.9999293088912964, 0.8858703374862671, 0.11405044049024582, 0.9999603629112244, 0.9998455047607422, 0.9998642206192017, 0.9999489784240723, 0.9999041557312012, 0.9998738169670105, 0.9999622702598572, 0.9999501705169678, 0.9998375177383423, 0.999954879283905, 0.9999839067459106, 0.9999584555625916, 0.9999697804450989, 0.7498320937156677, 0.25003740191459656, 0.9999582767486572, 0.999860942363739, 0.5714905858039856, 0.4284406900405884, 0.9999372959136963, 0.9999215006828308, 0.9998917579650879, 0.9999823570251465, 0.9999382495880127, 0.9997918605804443, 0.9999481439590454, 0.9997190237045288, 0.37499406933784485, 0.624974250793457, 0.8562446236610413, 0.14352092146873474, 0.40867698192596436, 0.4234606921672821, 0.16782809793949127, 0.9999733567237854, 0.6962924003601074, 0.3036099970340729, 0.9999115467071533, 0.24128413200378418, 0.7585087418556213, 0.08408894389867783, 0.34634512662887573, 0.40589505434036255, 0.1636658012866974, 0.9997748732566833, 0.4909893274307251, 0.5089854001998901, 0.7079061269760132, 0.29203009605407715, 0.9998603463172913, 0.999873697757721, 0.9998543858528137, 0.9998566508293152, 0.9999423027038574, 0.9998841881752014, 0.9999330639839172, 0.9999520182609558, 0.9997606873512268, 0.9999401569366455, 0.9997113943099976, 0.9999033212661743, 0.9998522400856018, 0.9999405741691589, 0.9999510645866394, 0.6995696425437927, 0.3003993630409241, 0.06485126912593842, 0.18264098465442657, 0.7524487376213074, 0.9999553561210632, 0.9998416900634766, 0.9999227523803711, 0.9998645782470703, 0.9999317526817322, 0.9997566342353821, 0.9999373555183411, 0.9998416304588318, 0.16527698934078217, 0.8347041010856628, 0.9998650550842285, 0.9999068975448608, 0.8882467746734619, 0.11167840659618378, 0.21169911324977875, 0.7882617712020874, 0.9997798204421997, 0.9999479055404663, 0.9998748302459717, 0.9999255537986755, 0.9997634291648865, 0.9998129606246948, 0.9999272227287292, 0.9998975992202759, 0.9999555945396423, 0.9998570084571838, 0.9999423623085022, 0.1142253577709198, 0.22645077109336853, 0.6592957377433777, 0.9998197555541992, 0.9998818039894104, 0.9998155236244202, 0.9997430443763733, 0.99991774559021, 0.3407999873161316, 0.6591243147850037, 0.5015861392021179, 0.4983990490436554, 0.9997349381446838, 0.9997854232788086, 0.9999493956565857, 0.9998149275779724, 0.5858700275421143, 0.41405171155929565, 0.9998894333839417, 0.9998183846473694, 0.09057290852069855, 0.9093124270439148, 0.08973883837461472, 0.6739681363105774, 0.08484312891960144, 0.1514105200767517, 0.9997256398200989, 0.999860942363739, 0.08183653652667999, 0.9181036353111267, 0.999964714050293, 0.9998002648353577, 0.9998044967651367, 0.9998744130134583, 0.7794421315193176, 0.22048485279083252, 0.9997369050979614, 0.9999849200248718, 0.9999260902404785, 0.5293484926223755, 0.18859432637691498, 0.2820201516151428, 0.9997654557228088, 0.7795904278755188, 0.220338836312294, 0.9998667240142822, 0.9997063875198364, 0.9999276399612427, 0.9998562335968018, 0.9999762773513794, 0.029158666729927063, 0.9707817435264587, 0.2631308138370514, 0.7368534207344055, 0.9999668598175049, 0.9998749494552612, 0.9998993873596191, 0.9997666478157043, 0.9998345971107483, 0.9999180436134338, 0.9998079538345337, 0.9998652935028076, 0.9998177289962769, 0.9998589754104614, 0.9998950958251953, 0.9998356699943542, 0.9997798800468445, 0.9997639656066895, 0.9998456239700317, 0.9998610019683838, 0.9998437166213989, 0.9999558925628662, 0.9998549818992615, 0.12906716763973236, 0.19539828598499298, 0.6754633188247681, 0.9998363852500916, 0.9998090267181396, 0.9998714923858643, 0.5545986890792847, 0.4453033208847046, 0.9999122619628906, 0.9997686147689819, 0.9998714327812195, 0.9998286962509155, 0.9998878240585327, 0.9999446272850037, 0.9999179244041443, 0.9999170303344727, 0.9999551773071289, 0.09600147604942322, 0.9037964940071106, 0.9997425079345703, 0.9999151229858398, 0.9999770522117615, 0.9997901320457458, 0.9998410940170288, 0.9998060464859009, 0.08429761976003647, 0.9156794548034668, 0.9998764991760254, 0.9998020529747009, 0.17556586861610413, 0.8244103193283081, 0.9999356865882874, 0.40054717659950256, 0.59941166639328, 0.9998646974563599, 0.9998498558998108, 0.999853253364563, 0.9998952150344849, 0.08420469611883163, 0.9157778024673462, 0.9998534321784973, 0.9998168349266052, 0.9997379779815674, 0.9999087452888489, 0.9998865723609924, 0.9997414350509644, 0.9998759031295776, 0.9999285340309143, 0.9997456073760986, 0.9999629855155945, 0.9999183416366577, 0.9997788667678833, 0.999859094619751, 0.1753951609134674, 0.8245555758476257, 0.9999666213989258, 0.9997999668121338, 0.045374467968940735, 0.7397758960723877, 0.0826597586274147, 0.13218051195144653, 0.4556320905685425, 0.5443182587623596, 0.9998325109481812, 0.9998273253440857, 0.9999920129776001, 0.9997628927230835, 0.9998749494552612, 0.9998478293418884, 0.9999713897705078, 0.9999821782112122, 0.9998836517333984, 0.9997240304946899, 0.9999524354934692, 0.9999356269836426, 0.9999290108680725, 0.9998084306716919, 0.9997546076774597, 0.9999098181724548, 0.9001505374908447, 0.09980165213346481, 0.9998310804367065, 0.15583156049251556, 0.8440459370613098, 0.9999200105667114, 0.9998076558113098, 0.9999503493309021, 0.999877393245697, 0.9998531341552734, 0.10217346251010895, 0.8978114128112793, 0.9999537467956543, 0.9999448657035828, 0.9998626708984375, 0.9999101161956787, 0.9998454451560974, 0.7163942456245422, 0.2834106981754303, 0.9997113347053528, 0.99980628490448, 0.9998382329940796, 0.9999198913574219, 0.9999228715896606, 0.9998073577880859, 0.9998289346694946, 0.9998133182525635, 0.9998911619186401, 0.9998862147331238, 0.9998131990432739, 0.9999314546585083, 0.9999292492866516, 0.9998373985290527, 0.9997744560241699, 0.9998336434364319, 0.9998834729194641, 0.9997783899307251, 0.9997626543045044, 0.9999165534973145, 0.9998357892036438, 0.999891459941864, 0.7125837206840515, 0.2873673141002655, 0.6378794312477112, 0.3620786666870117, 0.9997742772102356, 0.9997590184211731, 0.9999144077301025, 0.9997154474258423, 0.9998542070388794, 0.9998494982719421, 0.9999719858169556, 0.9999504089355469, 0.9997900724411011, 0.44355982542037964, 0.5564048290252686, 0.9998573660850525, 0.9997636079788208, 0.9999527931213379, 0.9999094605445862, 0.9998229146003723, 0.23826611042022705, 0.7616477012634277, 0.9997968077659607, 0.9999662041664124, 0.9997164607048035, 0.9998811483383179, 0.9999203085899353, 0.999724805355072, 0.9999477863311768, 0.9997164011001587, 0.9999876618385315, 0.14021223783493042, 0.8596436381340027, 0.9998703598976135, 0.9998301863670349, 0.9999358654022217, 0.09506423771381378, 0.6143093109130859, 0.29053401947021484, 0.9999614953994751, 0.9998597502708435, 0.9999165534973145, 0.9999395608901978, 0.9998393654823303, 0.9998277425765991, 0.9999347925186157, 0.999857485294342, 0.9999456405639648, 0.3513425886631012, 0.42427507042884827, 0.2243264615535736, 0.06127104535698891, 0.038529954850673676, 0.04242686182260513, 0.5766137838363647, 0.10523471236228943, 0.07504742592573166, 0.10088042914867401, 0.32723116874694824, 0.6727209687232971, 0.9998762011528015, 0.27093562483787537, 0.7289365530014038, 0.9999451041221619, 0.9999194145202637, 0.9303317666053772, 0.06960785388946533, 0.9998911619186401, 0.9997998476028442, 0.9997619390487671, 0.9997984170913696, 0.7889643311500549, 0.21101586520671844, 0.9998053908348083, 0.9999937415122986, 0.999858021736145, 0.9998335242271423, 0.9998364448547363, 0.9998774528503418, 0.9998065829277039, 0.9999648332595825, 0.9998251795768738, 0.9998311400413513, 0.9998592734336853, 0.9999493956565857, 0.9998698830604553, 0.9999287128448486, 0.9999103546142578, 0.4672899842262268, 0.532670259475708, 0.9997501969337463, 0.6823608875274658, 0.31760460138320923, 0.9998422265052795, 0.999933123588562, 0.26483154296875, 0.7350761294364929, 0.9997413754463196, 0.9997994303703308, 0.999864399433136, 0.9998841881752014, 0.9999412298202515, 0.9999729990959167, 0.9998419880867004, 0.9999651312828064, 0.9999202489852905, 0.7266724109649658, 0.2731941342353821, 0.1305108666419983, 0.06664039939641953, 0.023190757259726524, 0.06912055611610413, 0.055100422352552414, 0.13771270215511322, 0.022108351811766624, 0.07253823429346085, 0.06925692409276962, 0.07820595055818558, 0.05382198840379715, 0.04985884949564934, 0.06830236315727234, 0.1036297008395195, 0.9999279379844666, 0.5948013663291931, 0.4051659405231476, 0.9997569918632507, 0.999871551990509, 0.9998062252998352, 0.9998558163642883, 0.9998940229415894, 0.9999632239341736, 0.9998770356178284, 0.9998377561569214, 0.9997889399528503, 0.9999242424964905, 0.8562963008880615, 0.14368143677711487, 0.152915358543396, 0.8470476269721985, 0.99997478723526, 0.9998623728752136, 0.9998711943626404, 0.8013073205947876, 0.1986345797777176, 0.9999135732650757, 0.8959069848060608, 0.10403454303741455, 0.999881386756897, 0.9998401403427124, 0.3211643099784851, 0.6787889003753662, 0.9999596476554871, 0.9999676942825317, 0.9998544454574585, 0.9999184608459473, 0.9999375343322754, 0.999797523021698, 0.9998186230659485, 0.9998157620429993, 0.18782852590084076, 0.8120884895324707, 0.7708962559700012, 0.22905276715755463, 0.9998868703842163, 0.9997372627258301, 0.9998695254325867, 0.9998941421508789, 0.9999191761016846, 0.8570849895477295, 0.14284749329090118, 0.9998649954795837, 0.9998854398727417, 0.9998502731323242, 0.509547233581543, 0.49041756987571716, 0.9999216794967651, 0.5118027925491333, 0.488160103559494, 0.9997895956039429, 0.9998367428779602, 0.7204625606536865, 0.2795030474662781, 0.06473962962627411, 0.935154378414154, 0.9999424815177917, 0.5537739396095276, 0.4461848735809326, 0.7131862640380859, 0.2867193818092346, 0.6615212559700012, 0.33843520283699036, 0.9998289346694946, 0.9998490214347839, 0.9999229311943054, 0.9999788999557495, 0.9998167753219604, 0.9996655583381653, 0.9998207092285156, 0.9997692108154297, 0.9999562501907349, 0.10552163422107697, 0.8943949341773987, 0.9997527003288269, 0.9999384880065918, 0.5695270895957947, 0.2172669917345047, 0.21319323778152466, 0.9998540878295898, 0.9998655915260315, 0.9999333620071411, 0.9998999238014221, 0.9999076724052429, 0.9999008178710938, 0.9999066591262817, 0.9999319911003113, 0.9998111128807068, 0.9998997449874878, 0.9998555779457092, 0.9998323321342468, 0.9998993277549744, 0.9999269247055054, 0.46747106313705444, 0.532457172870636, 0.9997640252113342, 0.9998855590820312, 0.9998296499252319, 0.9998864531517029, 0.9997366070747375, 0.9998885989189148, 0.39759108424186707, 0.602332353591919, 0.9998993873596191, 0.9998842477798462, 0.9998723864555359, 0.9997525811195374, 0.9997576475143433, 0.9998673796653748, 0.09338225424289703, 0.9065722823143005, 0.9998778700828552, 0.9999202489852905, 0.9998125433921814, 0.9999231696128845, 0.9999024271965027, 0.99978107213974, 0.9999485611915588, 0.9999217391014099, 0.9998236298561096, 0.9999584555625916, 0.9999421834945679, 0.9997641444206238, 0.999826192855835, 0.9997650980949402, 0.9998700022697449, 0.6915225386619568, 0.3083789050579071, 0.8367626667022705, 0.163190096616745, 0.9999912977218628, 0.9998462796211243, 0.9998685717582703, 0.060716040432453156, 0.9392068982124329, 0.4253498911857605, 0.15069136023521423, 0.42389973998069763, 0.9998510479927063, 0.1367679238319397, 0.863193690776825, 0.2656574249267578, 0.7343186736106873, 0.9999422430992126, 0.9999644756317139, 0.7334041595458984, 0.23658357560634613, 0.030019816011190414, 0.9997875690460205, 0.9998140335083008, 0.9998210668563843, 0.9998544454574585, 0.9998424649238586, 0.999869704246521, 0.9999196529388428, 0.9999719262123108, 0.999951183795929, 0.9998995065689087, 0.9999538064002991, 0.999938428401947, 0.9998719096183777, 0.9999176859855652, 0.9998994469642639, 0.9998090863227844, 0.9999009966850281, 0.9997653961181641, 0.999940812587738, 0.21013124287128448, 0.3194991946220398, 0.47033852338790894, 0.6855975389480591, 0.31438350677490234, 0.99980628490448, 0.9997623562812805, 0.9998461008071899, 0.9998849034309387, 0.6030035018920898, 0.39692404866218567, 0.9999765157699585, 0.2553534507751465, 0.7446142435073853, 0.10731957852840424, 0.8926388025283813, 0.9998705387115479, 0.9999397993087769, 0.9999348521232605, 0.9999403357505798, 0.9999154210090637, 0.9998705983161926, 0.9999586939811707, 0.9998682141304016, 0.9998734593391418, 0.9999551177024841, 0.9999597072601318, 0.999962568283081, 0.9997661113739014, 0.9998194575309753, 0.5085529088973999, 0.4914203882217407, 0.9998993873596191, 0.9998285174369812, 0.24964359402656555, 0.7503295540809631, 0.9999229311943054, 0.9998062252998352, 0.9998659491539001, 0.999841570854187, 0.9998501539230347, 0.999876081943512, 0.9998895525932312, 0.9997896552085876, 0.9999679923057556, 0.7410666346549988, 0.2588387727737427, 0.9999047517776489, 0.9999021887779236, 0.9998278617858887, 0.9997722506523132, 0.9998783469200134, 0.9997860193252563, 0.056227266788482666, 0.06651274114847183, 0.597148060798645, 0.04396088421344757, 0.09009314328432083, 0.146053746342659, 0.7454512715339661, 0.25449568033218384, 0.11430366337299347, 0.11703108251094818, 0.11425717175006866, 0.1269179731607437, 0.11123531311750412, 0.4162413775920868, 0.9997723698616028, 0.9999827742576599, 0.9998747110366821, 0.9997653365135193, 0.9997720718383789, 0.9999744296073914, 0.9999315738677979, 0.9999024271965027, 0.9998989105224609, 0.9998046159744263, 0.09431467950344086, 0.07287734001874924, 0.6039507985115051, 0.054279062896966934, 0.04241754859685898, 0.13211272656917572, 0.999971330165863, 0.10126041620969772, 0.08425591140985489, 0.20837482810020447, 0.4368205666542053, 0.16924357414245605, 0.44944998621940613, 0.550436794757843, 0.9998502731323242, 0.9999688863754272, 0.9998378753662109, 0.9999544620513916, 0.9999096989631653, 0.9999220371246338, 0.9998372197151184, 0.9999173283576965, 0.9999746084213257, 0.9998677968978882, 0.9999275803565979, 0.9999610781669617, 0.9997850656509399, 0.999983549118042, 0.9998902082443237, 0.8257491588592529, 0.17420481145381927, 0.9999589323997498, 0.4379654824733734, 0.5620086789131165, 0.9999241232872009, 0.9999881982803345], \"Term\": [\"access\", \"access\", \"account\", \"account\", \"account\", \"across\", \"action\", \"ad\", \"age\", \"air\", \"algorithm\", \"also\", \"alternative\", \"alternative\", \"amazon\", \"america\", \"american\", \"amp\", \"analysis\", \"analytics\", \"android\", \"anyone\", \"apache\", \"api\", \"app\", \"apple\", \"application\", \"approach\", \"approach\", \"apps\", \"archive\", \"around\", \"around\", \"arstechnica\", \"art\", \"artificial\", \"ask\", \"attack\", \"automated\", \"aws\", \"azure\", \"back\", \"back\", \"bank\", \"bank\", \"based\", \"based\", \"based\", \"bbc\", \"become\", \"become\", \"behind\", \"benefit\", \"benefit\", \"best\", \"best\", \"best\", \"best\", \"beta\", \"better\", \"better\", \"big\", \"big\", \"bill\", \"bitcoin\", \"black\", \"block\", \"blockchain\", \"blog\", \"blogspot\", \"bloomberg\", \"board\", \"book\", \"box\", \"brain\", \"brand\", \"browser\", \"build\", \"building\", \"building\", \"built\", \"built\", \"built\", \"business\", \"businessinsider\", \"buy\", \"california\", \"call\", \"cancer\", \"car\", \"card\", \"case\", \"case\", \"cell\", \"ceo\", \"challenge\", \"challenge\", \"change\", \"change\", \"child\", \"china\", \"chinese\", \"city\", \"claim\", \"class\", \"client\", \"climate\", \"cloud\", \"cnbc\", \"cnn\", \"code\", \"code\", \"code\", \"coding\", \"collection\", \"coming\", \"command\", \"common\", \"community\", \"community\", \"company\", \"company\", \"complete\", \"component\", \"computer\", \"computing\", \"content\", \"content\", \"control\", \"core\", \"cost\", \"cost\", \"could\", \"could\", \"could\", \"could\", \"court\", \"crash\", \"create\", \"create\", \"credit\", \"cs\", \"culture\", \"custom\", \"customer\", \"customer\", \"cut\", \"data\", \"database\", \"day\", \"day\", \"day\", \"dead\", \"deal\", \"deal\", \"death\", \"decision\", \"deep\", \"delivery\", \"design\", \"dev\", \"dev\", \"developer\", \"developer\", \"development\", \"device\", \"digital\", \"distributed\", \"docker\", \"domain\", \"driver\", \"drone\", \"early\", \"earth\", \"economist\", \"economy\", \"edge\", \"editor\", \"effect\", \"effective\", \"electric\", \"email\", \"employee\", \"end\", \"end\", \"end\", \"energy\", \"engadget\", \"engine\", \"engineer\", \"engineer\", \"engineering\", \"enterprise\", \"environment\", \"error\", \"etc\", \"even\", \"event\", \"every\", \"experience\", \"expert\", \"expert\", \"explained\", \"face\", \"facebook\", \"facial\", \"fake\", \"family\", \"fast\", \"fast\", \"fastcompany\", \"faster\", \"feature\", \"feature\", \"file\", \"find\", \"find\", \"finding\", \"fire\", \"firefox\", \"firm\", \"first\", \"first\", \"five\", \"fix\", \"flight\", \"food\", \"forbes\", \"force\", \"founder\", \"framework\", \"francisco\", \"free\", \"full\", \"functional\", \"fund\", \"future\", \"future\", \"game\", \"generation\", \"get\", \"get\", \"get\", \"get\", \"getting\", \"getting\", \"giant\", \"git\", \"github\", \"gizmodo\", \"global\", \"go\", \"good\", \"google\", \"government\", \"graphic\", \"great\", \"guide\", \"hacker\", \"hacking\", \"hand\", \"health\", \"help\", \"help\", \"helped\", \"high\", \"high\", \"history\", \"hit\", \"home\", \"house\", \"href=\", \"http\", \"http\", \"human\", \"idea\", \"ieee\", \"image\", \"impact\", \"improve\", \"improve\", \"income\", \"increase\", \"india\", \"industry\", \"information\", \"infrastructure\", \"inside\", \"instagram\", \"intel\", \"intelligence\", \"interface\", \"internet\", \"interview\", \"introduction\", \"investment\", \"investor\", \"io\", \"iphone\", \"ipo\", \"item\", \"japan\", \"java\", \"javascript\", \"javascript\", \"job\", \"job\", \"join\", \"kernel\", \"key\", \"keyboard\", \"kid\", \"kill\", \"know\", \"language\", \"laptop\", \"last\", \"last\", \"latest\", \"latimes\", \"launch\", \"law\", \"lead\", \"learn\", \"learn\", \"learned\", \"learning\", \"legal\", \"lesson\", \"library\", \"license\", \"life\", \"light\", \"like\", \"line\", \"line\", \"link\", \"linkedin\", \"linux\", \"list\", \"list\", \"list\", \"live\", \"log\", \"look\", \"looking\", \"loss\", \"lost\", \"lot\", \"mac\", \"machine\", \"made\", \"made\", \"made\", \"make\", \"make\", \"make\", \"make\", \"make\", \"make\", \"make\", \"making\", \"making\", \"man\", \"management\", \"management\", \"many\", \"map\", \"market\", \"market\", \"marketing\", \"master\", \"matter\", \"max\", \"may\", \"may\", \"medical\", \"medium\", \"meet\", \"meeting\", \"memory\", \"message\", \"method\", \"microsoft\", \"million\", \"missing\", \"mit\", \"mobile\", \"mode\", \"model\", \"modern\", \"money\", \"money\", \"moon\", \"move\", \"move\", \"mozilla\", \"much\", \"music\", \"music\", \"musk\", \"must\", \"nasa\", \"native\", \"nature\", \"need\", \"netflix\", \"network\", \"neural\", \"never\", \"never\", \"new\", \"new\", \"new\", \"new\", \"new\", \"new\", \"new\", \"new\", \"new\", \"new\", \"new\", \"new\", \"new\", \"new\", \"news\", \"next\", \"next\", \"node.js\", \"nofollow\", \"note\", \"npr\", \"number\", \"nytimes\", \"object\", \"office\", \"often\", \"old\", \"one\", \"one\", \"online\", \"online\", \"open\", \"open-source\", \"package\", \"page\", \"page\", \"paper\", \"part\", \"part\", \"password\", \"pattern\", \"pay\", \"pay\", \"pdf\", \"people\", \"per\", \"performance\", \"phone\", \"photo\", \"php\", \"phys\", \"plan\", \"plan\", \"platform\", \"platform\", \"play\", \"player\", \"police\", \"post\", \"power\", \"practice\", \"practice\", \"price\", \"privacy\", \"pro\", \"problem\", \"problem\", \"process\", \"product\", \"product\", \"production\", \"productivity\", \"program\", \"program\", \"programmer\", \"programmer\", \"programming\", \"project\", \"project\", \"public\", \"public\", \"python\", \"python\", \"quantum\", \"query\", \"question\", \"quot\", \"qz\", \"rail\", \"raise\", \"reach\", \"react\", \"real\", \"real\", \"reality\", \"really\", \"reason\", \"reason\", \"reason\", \"recognition\", \"record\", \"reddit\", \"rel=\", \"release\", \"released\", \"remote\", \"report\", \"request\", \"research\", \"researcher\", \"response\", \"reuters\", \"review\", \"right\", \"right\", \"rise\", \"risk\", \"road\", \"robot\", \"ruby\", \"rule\", \"run\", \"run\", \"rust\", \"saas\", \"sale\", \"samsung\", \"san\", \"save\", \"say\", \"say\", \"school\", \"science\", \"scientificamerican\", \"scientist\", \"score\", \"screen\", \"search\", \"secret\", \"secure\", \"security\", \"see\", \"seek\", \"sell\", \"seo\", \"series\", \"server\", \"server\", \"service\", \"service\", \"show\", \"sign\", \"silicon\", \"simple\", \"simple\", \"site\", \"site\", \"site\", \"smart\", \"social\", \"social\", \"software\", \"software\", \"something\", \"source\", \"space\", \"space\", \"space\", \"speech\", \"speed\", \"spotify\", \"sql\", \"stack\", \"star\", \"start\", \"startup\", \"state\", \"step\", \"still\", \"stop\", \"storage\", \"store\", \"story\", \"strategy\", \"student\", \"studio\", \"study\", \"support\", \"support\", \"support\", \"system\", \"system\", \"table\", \"taking\", \"talk\", \"tax\", \"team\", \"team\", \"tech\", \"techcrunch\", \"techcrunch\", \"technology\", \"technology\", \"technologyreview\", \"tesla\", \"test\", \"testing\", \"text\", \"theatlantic\", \"theguardian\", \"theory\", \"theregister\", \"theverge\", \"thing\", \"think\", \"threat\", \"three\", \"time\", \"time\", \"tip\", \"took\", \"tool\", \"tool\", \"top\", \"topic\", \"tracking\", \"trend\", \"true\", \"trump\", \"turn\", \"tutorial\", \"twitter\", \"two\", \"two\", \"type\", \"uber\", \"understanding\", \"university\", \"update\", \"us\", \"use\", \"use\", \"use\", \"use\", \"use\", \"use\", \"user\", \"user\", \"using\", \"using\", \"using\", \"using\", \"using\", \"using\", \"valley\", \"video\", \"virtual\", \"visual\", \"voice\", \"want\", \"war\", \"washingtonpost\", \"watch\", \"water\", \"way\", \"way\", \"way\", \"way\", \"way\", \"way\", \"web\", \"website\", \"website\", \"website\", \"website\", \"website\", \"week\", \"week\", \"white\", \"wikipedia\", \"win\", \"window\", \"wired\", \"woman\", \"word\", \"wordpress\", \"work\", \"worker\", \"working\", \"world\", \"worth\", \"would\", \"write\", \"writing\", \"writing\", \"wsj\", \"year\", \"year\", \"youtu\", \"youtube\"]}, \"R\": 30, \"lambda.step\": 0.01, \"plot.opts\": {\"xlab\": \"PC1\", \"ylab\": \"PC2\"}, \"topic.order\": [1, 2, 3, 4, 5, 6, 7, 8, 9, 10, 11, 12, 13, 14, 15]};\n",
       "\n",
       "function LDAvis_load_lib(url, callback){\n",
       "  var s = document.createElement('script');\n",
       "  s.src = url;\n",
       "  s.async = true;\n",
       "  s.onreadystatechange = s.onload = callback;\n",
       "  s.onerror = function(){console.warn(\"failed to load library \" + url);};\n",
       "  document.getElementsByTagName(\"head\")[0].appendChild(s);\n",
       "}\n",
       "\n",
       "if(typeof(LDAvis) !== \"undefined\"){\n",
       "   // already loaded: just create the visualization\n",
       "   !function(LDAvis){\n",
       "       new LDAvis(\"#\" + \"ldavis_el1600422909764160729332784430\", ldavis_el1600422909764160729332784430_data);\n",
       "   }(LDAvis);\n",
       "}else if(typeof define === \"function\" && define.amd){\n",
       "   // require.js is available: use it to load d3/LDAvis\n",
       "   require.config({paths: {d3: \"https://cdnjs.cloudflare.com/ajax/libs/d3/3.5.5/d3.min\"}});\n",
       "   require([\"d3\"], function(d3){\n",
       "      window.d3 = d3;\n",
       "      LDAvis_load_lib(\"https://cdn.rawgit.com/bmabey/pyLDAvis/files/ldavis.v1.0.0.js\", function(){\n",
       "        new LDAvis(\"#\" + \"ldavis_el1600422909764160729332784430\", ldavis_el1600422909764160729332784430_data);\n",
       "      });\n",
       "    });\n",
       "}else{\n",
       "    // require.js not available: dynamically load d3 & LDAvis\n",
       "    LDAvis_load_lib(\"https://cdnjs.cloudflare.com/ajax/libs/d3/3.5.5/d3.min.js\", function(){\n",
       "         LDAvis_load_lib(\"https://cdn.rawgit.com/bmabey/pyLDAvis/files/ldavis.v1.0.0.js\", function(){\n",
       "                 new LDAvis(\"#\" + \"ldavis_el1600422909764160729332784430\", ldavis_el1600422909764160729332784430_data);\n",
       "            })\n",
       "         });\n",
       "}\n",
       "</script>"
      ],
      "text/plain": [
       "<IPython.core.display.HTML object>"
      ]
     },
     "execution_count": 205,
     "metadata": {},
     "output_type": "execute_result"
    }
   ],
   "source": [
    "# visualize\n",
    "\n",
    "import pyLDAvis.gensim\n",
    "\n",
    "lda_display = pyLDAvis.gensim.prepare(ldamodel, corpus, dictionary, sort_topics=False)\n",
    "pyLDAvis.display(lda_display)"
   ]
  },
  {
   "cell_type": "code",
   "execution_count": 206,
   "metadata": {},
   "outputs": [],
   "source": [
    "pyLDAvis.save_html(lda_display, 'lda.html')"
   ]
  }
 ],
 "metadata": {
  "kernelspec": {
   "display_name": "tdi",
   "language": "python",
   "name": "tdi"
  },
  "language_info": {
   "codemirror_mode": {
    "name": "ipython",
    "version": 3
   },
   "file_extension": ".py",
   "mimetype": "text/x-python",
   "name": "python",
   "nbconvert_exporter": "python",
   "pygments_lexer": "ipython3",
   "version": "3.7.6"
  }
 },
 "nbformat": 4,
 "nbformat_minor": 2
}
